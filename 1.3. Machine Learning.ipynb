{
 "cells": [
  {
   "cell_type": "code",
   "execution_count": 1,
   "metadata": {},
   "outputs": [],
   "source": [
    "%matplotlib inline\n",
    "%load_ext autoreload\n",
    "%autoreload 2"
   ]
  },
  {
   "cell_type": "code",
   "execution_count": 2,
   "metadata": {},
   "outputs": [],
   "source": [
    "import numpy as np\n",
    "import matplotlib.pyplot as plt\n",
    "import pandas as pd\n",
    "import os, sys\n",
    "import sklearn as skl\n",
    "pd.options.display.max_columns = 500"
   ]
  },
  {
   "cell_type": "code",
   "execution_count": 3,
   "metadata": {},
   "outputs": [],
   "source": [
    "from sklearn.model_selection import train_test_split\n",
    "from sklearn.preprocessing import LabelEncoder, StandardScaler\n",
    "from sklearn.model_selection import GridSearchCV\n",
    "from sklearn.linear_model import LogisticRegression\n",
    "import sklearn.metrics as metrics\n",
    "from sklearn.neural_network import MLPClassifier\n",
    "from IPython.core.display import display, HTML\n",
    "import seaborn as sns\n",
    "import warnings\n",
    "warnings.filterwarnings('ignore')\n",
    "\n",
    "from datetime import datetime\n",
    "import requests\n",
    "from sklearn.cluster import KMeans\n",
    "from scipy.stats import stats\n",
    "from sklearn.feature_selection import SelectKBest\n",
    "from sklearn.model_selection import StratifiedKFold\n",
    "from sklearn.ensemble import RandomForestClassifier\n",
    "from sklearn.metrics import roc_curve, auc\n",
    "from sklearn.multiclass import OneVsRestClassifier\n",
    "from sklearn.preprocessing import label_binarize\n",
    "from itertools import cycle\n",
    "from sklearn.neural_network import MLPClassifier\n",
    "# Preprocesado.\n",
    "from sklearn.preprocessing import MinMaxScaler\n",
    "from sklearn.preprocessing import LabelEncoder\n",
    "\n",
    "from imblearn.over_sampling import SMOTE\n",
    "import pickle\n",
    "\n",
    "# Métricas.\n",
    "from sklearn.metrics import classification_report\n",
    "from sklearn.metrics import accuracy_score, auc, confusion_matrix, f1_score \n",
    "from sklearn.metrics import precision_score, recall_score, roc_curve, classification_report"
   ]
  },
  {
   "cell_type": "code",
   "execution_count": 4,
   "metadata": {},
   "outputs": [],
   "source": [
    "from numpy import mean, std\n",
    "from sklearn.ensemble import RandomForestRegressor\n",
    "from sklearn.datasets import make_regression\n",
    "from sklearn.model_selection import cross_val_score, RepeatedKFold"
   ]
  },
  {
   "cell_type": "code",
   "execution_count": 5,
   "metadata": {},
   "outputs": [],
   "source": [
    "def represento_doble_hist(x_1, x_0, n_bins=11, title='', label_1='Clase 1', \n",
    "                          label_0='Clase 0', density=0):\n",
    "    bins = n_bins\n",
    "    plt.hist(x_1, bins, density = density, alpha=0.5, label=label_1, color='red')    \n",
    "    plt.hist(x_0, bins, density = density, alpha=0.5, label=label_0, color='green')\n",
    "    plt.title(title)\n",
    "    plt.legend(loc='best') "
   ]
  },
  {
   "cell_type": "code",
   "execution_count": 6,
   "metadata": {},
   "outputs": [],
   "source": [
    "file_path = 'XY.csv'\n",
    "XY = pd.read_csv(file_path)"
   ]
  },
  {
   "cell_type": "code",
   "execution_count": 7,
   "metadata": {},
   "outputs": [
    {
     "data": {
      "text/html": [
       "<div>\n",
       "<style scoped>\n",
       "    .dataframe tbody tr th:only-of-type {\n",
       "        vertical-align: middle;\n",
       "    }\n",
       "\n",
       "    .dataframe tbody tr th {\n",
       "        vertical-align: top;\n",
       "    }\n",
       "\n",
       "    .dataframe thead th {\n",
       "        text-align: right;\n",
       "    }\n",
       "</style>\n",
       "<table border=\"1\" class=\"dataframe\">\n",
       "  <thead>\n",
       "    <tr style=\"text-align: right;\">\n",
       "      <th></th>\n",
       "      <th>school_year</th>\n",
       "      <th>age</th>\n",
       "      <th>gender</th>\n",
       "      <th>bmi</th>\n",
       "      <th>phq_score</th>\n",
       "      <th>depressiveness</th>\n",
       "      <th>depression_diagnosis</th>\n",
       "      <th>depression_treatment</th>\n",
       "      <th>gad_score</th>\n",
       "      <th>anxiousness</th>\n",
       "      <th>anxiety_diagnosis</th>\n",
       "      <th>anxiety_treatment</th>\n",
       "      <th>epworth_score</th>\n",
       "      <th>sleepiness</th>\n",
       "      <th>suicidal</th>\n",
       "    </tr>\n",
       "  </thead>\n",
       "  <tbody>\n",
       "    <tr>\n",
       "      <th>0</th>\n",
       "      <td>1</td>\n",
       "      <td>18</td>\n",
       "      <td>0</td>\n",
       "      <td>19.84</td>\n",
       "      <td>8.0</td>\n",
       "      <td>0</td>\n",
       "      <td>0</td>\n",
       "      <td>0</td>\n",
       "      <td>5</td>\n",
       "      <td>0</td>\n",
       "      <td>0</td>\n",
       "      <td>0</td>\n",
       "      <td>14.0</td>\n",
       "      <td>1</td>\n",
       "      <td>0</td>\n",
       "    </tr>\n",
       "    <tr>\n",
       "      <th>1</th>\n",
       "      <td>1</td>\n",
       "      <td>19</td>\n",
       "      <td>0</td>\n",
       "      <td>25.10</td>\n",
       "      <td>8.0</td>\n",
       "      <td>0</td>\n",
       "      <td>0</td>\n",
       "      <td>0</td>\n",
       "      <td>6</td>\n",
       "      <td>0</td>\n",
       "      <td>0</td>\n",
       "      <td>0</td>\n",
       "      <td>6.0</td>\n",
       "      <td>0</td>\n",
       "      <td>0</td>\n",
       "    </tr>\n",
       "    <tr>\n",
       "      <th>2</th>\n",
       "      <td>1</td>\n",
       "      <td>18</td>\n",
       "      <td>0</td>\n",
       "      <td>25.62</td>\n",
       "      <td>6.0</td>\n",
       "      <td>0</td>\n",
       "      <td>0</td>\n",
       "      <td>0</td>\n",
       "      <td>14</td>\n",
       "      <td>1</td>\n",
       "      <td>0</td>\n",
       "      <td>0</td>\n",
       "      <td>3.0</td>\n",
       "      <td>0</td>\n",
       "      <td>0</td>\n",
       "    </tr>\n",
       "    <tr>\n",
       "      <th>3</th>\n",
       "      <td>1</td>\n",
       "      <td>18</td>\n",
       "      <td>0</td>\n",
       "      <td>22.13</td>\n",
       "      <td>3.0</td>\n",
       "      <td>0</td>\n",
       "      <td>0</td>\n",
       "      <td>0</td>\n",
       "      <td>2</td>\n",
       "      <td>0</td>\n",
       "      <td>0</td>\n",
       "      <td>0</td>\n",
       "      <td>2.0</td>\n",
       "      <td>0</td>\n",
       "      <td>0</td>\n",
       "    </tr>\n",
       "    <tr>\n",
       "      <th>4</th>\n",
       "      <td>1</td>\n",
       "      <td>18</td>\n",
       "      <td>0</td>\n",
       "      <td>22.41</td>\n",
       "      <td>6.0</td>\n",
       "      <td>0</td>\n",
       "      <td>0</td>\n",
       "      <td>0</td>\n",
       "      <td>4</td>\n",
       "      <td>0</td>\n",
       "      <td>0</td>\n",
       "      <td>0</td>\n",
       "      <td>3.0</td>\n",
       "      <td>0</td>\n",
       "      <td>0</td>\n",
       "    </tr>\n",
       "  </tbody>\n",
       "</table>\n",
       "</div>"
      ],
      "text/plain": [
       "   school_year  age  gender    bmi  phq_score  depressiveness  \\\n",
       "0            1   18       0  19.84        8.0               0   \n",
       "1            1   19       0  25.10        8.0               0   \n",
       "2            1   18       0  25.62        6.0               0   \n",
       "3            1   18       0  22.13        3.0               0   \n",
       "4            1   18       0  22.41        6.0               0   \n",
       "\n",
       "   depression_diagnosis  depression_treatment  gad_score  anxiousness  \\\n",
       "0                     0                     0          5            0   \n",
       "1                     0                     0          6            0   \n",
       "2                     0                     0         14            1   \n",
       "3                     0                     0          2            0   \n",
       "4                     0                     0          4            0   \n",
       "\n",
       "   anxiety_diagnosis  anxiety_treatment  epworth_score  sleepiness  suicidal  \n",
       "0                  0                  0           14.0           1         0  \n",
       "1                  0                  0            6.0           0         0  \n",
       "2                  0                  0            3.0           0         0  \n",
       "3                  0                  0            2.0           0         0  \n",
       "4                  0                  0            3.0           0         0  "
      ]
     },
     "execution_count": 7,
     "metadata": {},
     "output_type": "execute_result"
    }
   ],
   "source": [
    "XY.head()"
   ]
  },
  {
   "cell_type": "markdown",
   "metadata": {},
   "source": [
    "# 0. Preparación del dataset"
   ]
  },
  {
   "cell_type": "code",
   "execution_count": 8,
   "metadata": {},
   "outputs": [],
   "source": [
    "# Separar las características (X) de la variable objetivo (y)\n",
    "X = XY.drop('suicidal', axis=1)\n",
    "Y = XY['suicidal']"
   ]
  },
  {
   "cell_type": "code",
   "execution_count": 9,
   "metadata": {},
   "outputs": [
    {
     "data": {
      "text/plain": [
       "0    0.952454\n",
       "1    0.047546\n",
       "Name: suicidal, dtype: float64"
      ]
     },
     "execution_count": 9,
     "metadata": {},
     "output_type": "execute_result"
    }
   ],
   "source": [
    "Y.value_counts(normalize= True)"
   ]
  },
  {
   "cell_type": "code",
   "execution_count": 10,
   "metadata": {},
   "outputs": [],
   "source": [
    "# Primero dividimos los datos en entrenamiento y prueba\n",
    "X_train, X_test, y_train, y_test = train_test_split(X, Y, test_size=0.33, random_state=42)"
   ]
  },
  {
   "cell_type": "code",
   "execution_count": 11,
   "metadata": {},
   "outputs": [],
   "source": [
    "# Escalar las características porque hay algoritmos sensibles a la escala\n",
    "scaler = StandardScaler()\n",
    "X_train_scaled = scaler.fit_transform(X_train)\n",
    "X_test_scaled = scaler.transform(X_test)"
   ]
  },
  {
   "cell_type": "code",
   "execution_count": 12,
   "metadata": {},
   "outputs": [],
   "source": [
    "# Aplicar SMOTE solo en el conjunto de entrenamiento para balancear\n",
    "sm = SMOTE(random_state=42)\n",
    "X_train_sm, y_train_sm = sm.fit_resample(X_train_scaled, y_train)"
   ]
  },
  {
   "cell_type": "code",
   "execution_count": 13,
   "metadata": {},
   "outputs": [],
   "source": [
    "# Contar ocurrencias de cada clase en y_train_sm\n",
    "unique, counts = np.unique(y_train_sm, return_counts=True)\n",
    "proportions = counts / counts.sum()"
   ]
  },
  {
   "cell_type": "code",
   "execution_count": 14,
   "metadata": {},
   "outputs": [
    {
     "name": "stdout",
     "output_type": "stream",
     "text": [
      "Clase 0: 50.00%\n",
      "Clase 1: 50.00%\n"
     ]
    }
   ],
   "source": [
    "# Mostrar proporciones\n",
    "for label, prop in zip(unique, proportions):\n",
    "    print(f\"Clase {label}: {prop * 100:.2f}%\")"
   ]
  },
  {
   "cell_type": "markdown",
   "metadata": {},
   "source": [
    "# 1. Modelo de clasificación lineal."
   ]
  },
  {
   "cell_type": "markdown",
   "metadata": {},
   "source": [
    "#### Ajuste y predicción del modelo:\n",
    "\n",
    "Se ajusta el modelo de regresión logística básico usando el conjunto de entrenamiento balanceado (X_train_sm, y_train_sm). Se utiliza el conjunto de datos que ha sido preprocesado y balanceado adecuadamente para entrenar el modelo."
   ]
  },
  {
   "cell_type": "code",
   "execution_count": 15,
   "metadata": {},
   "outputs": [
    {
     "data": {
      "text/plain": [
       "LogisticRegression()"
      ]
     },
     "execution_count": 15,
     "metadata": {},
     "output_type": "execute_result"
    }
   ],
   "source": [
    "#1. Entrenamiento del modelo\n",
    "modelo_LG = LogisticRegression()\n",
    "modelo_LG.fit(X_train_sm, y_train_sm)"
   ]
  },
  {
   "cell_type": "markdown",
   "metadata": {},
   "source": [
    "Se predicen las probabilidades en el conjunto de test y se calcula la métrica **ROC AUC**:"
   ]
  },
  {
   "cell_type": "code",
   "execution_count": 16,
   "metadata": {},
   "outputs": [
    {
     "name": "stdout",
     "output_type": "stream",
     "text": [
      "ROC AUC Score (sin ajuste): 0.9483173076923077\n"
     ]
    }
   ],
   "source": [
    "#2. Predicciones de prueba\n",
    "y_test_pred_prob = modelo_LG.predict_proba(X_test_scaled)\n",
    "print(\"ROC AUC Score (sin ajuste):\",metrics.roc_auc_score(y_test, y_test_pred_prob[:,1]))"
   ]
  },
  {
   "cell_type": "markdown",
   "metadata": {},
   "source": [
    "Un valor de 0.8988 es bastante alto, lo que sugiere que el modelo tiene un buen rendimiento en términos de diferenciar entre las clases positivas y negativas."
   ]
  },
  {
   "cell_type": "markdown",
   "metadata": {},
   "source": [
    "## 1.1. Optimización de parámetros"
   ]
  },
  {
   "cell_type": "markdown",
   "metadata": {},
   "source": [
    "Se realiza una búsqueda en cuadrícula para optimizar los parámetros **C (parámetro de regularización)** y **class_weight** utilizando validación cruzada. La inclusión de class_weight en la búsqueda es particularmente importante dado el desbalance inicial en tus datos. Aquí hay algunos puntos a tener en cuenta:\n",
    "\n",
    "- \n",
    "\n",
    "La métrica a optimizar queremos que sea la **ROC AUC**:"
   ]
  },
  {
   "cell_type": "code",
   "execution_count": 17,
   "metadata": {},
   "outputs": [
    {
     "data": {
      "text/plain": [
       "GridSearchCV(cv=5, estimator=LogisticRegression(),\n",
       "             param_grid={'C': [0.01, 0.02, 0.03, 0.04, 0.05, 0.06, 0.07, 0.08,\n",
       "                               0.09],\n",
       "                         'class_weight': ['balanced', None]},\n",
       "             scoring='roc_auc')"
      ]
     },
     "execution_count": 17,
     "metadata": {},
     "output_type": "execute_result"
    }
   ],
   "source": [
    "#3. GridSearch para hiperparámetros con validación cruzada\n",
    "parametros = {\"C\": [0.01, 0.02, 0.03, 0.04, 0.05, 0.06, 0.07, 0.08, 0.09], \n",
    "              \"class_weight\":['balanced', None]}\n",
    "modelo_gs = GridSearchCV(modelo_LG, param_grid=parametros,\n",
    "                         cv = 5, scoring='roc_auc')\n",
    "modelo_gs.fit(X_train_sm, y_train_sm)"
   ]
  },
  {
   "cell_type": "markdown",
   "metadata": {},
   "source": [
    "Se imprimen los mejores parámetros:"
   ]
  },
  {
   "cell_type": "code",
   "execution_count": 18,
   "metadata": {},
   "outputs": [
    {
     "name": "stdout",
     "output_type": "stream",
     "text": [
      "{'C': 0.09, 'class_weight': 'balanced'} \n",
      "ROC AUC: 0.97\n"
     ]
    }
   ],
   "source": [
    "#4. Mejores parámetros y score de ROC AUC\n",
    "print(modelo_gs.best_params_, \"\\nROC AUC: {}\".format(round(modelo_gs.best_score_,2)))"
   ]
  },
  {
   "cell_type": "markdown",
   "metadata": {},
   "source": [
    "Este es un resultado excelente y muestra una mejora respecto al modelo inicial sin optimización."
   ]
  },
  {
   "cell_type": "markdown",
   "metadata": {},
   "source": [
    "Se crea un DataFrame de pandas que contiene todos los resultados y métricas de la búsqueda de hiperparámetros realizada por GridSearchCV:\n",
    "\n",
    "Finalmente, almacenas los resultados de la búsqueda de GridSearchCV en un DataFrame para un análisis más detallado. Esto es útil para revisar cómo diferentes configuraciones de parámetros afectaron el rendimiento del modelo."
   ]
  },
  {
   "cell_type": "code",
   "execution_count": 19,
   "metadata": {},
   "outputs": [],
   "source": [
    "#5. Resultado de la búsqueda\n",
    "df_search = pd.DataFrame.from_dict(modelo_gs.cv_results_)"
   ]
  },
  {
   "cell_type": "markdown",
   "metadata": {},
   "source": [
    "Se representa la métrica en función del valor de unos de los parámetros:"
   ]
  },
  {
   "cell_type": "code",
   "execution_count": 20,
   "metadata": {},
   "outputs": [
    {
     "data": {
      "image/png": "[encoded data removed]",
      "text/plain": [
       "<Figure size 432x288 with 1 Axes>"
      ]
     },
     "metadata": {
      "needs_background": "light"
     },
     "output_type": "display_data"
    }
   ],
   "source": [
    "#6. Gráfico de C vs. ROC AUC\n",
    "plt.xlabel('C')\n",
    "plt.ylabel('roc_auc')\n",
    "_ = plt.plot( df_search['param_C'], df_search['mean_test_score'], '.')"
   ]
  },
  {
   "cell_type": "markdown",
   "metadata": {},
   "source": [
    "- Eje X (*C*): Este parámetro controla la fuerza de la regularización en la regresión logística. Valores más bajos de \n",
    "*C* indican más regularización (lo que puede prevenir el sobreajuste pero también puede causar subajuste si es demasiado alto), y valores más altos indican menos regularización (lo que puede capturar mejor las relaciones complejas en los datos pero también puede llevar al sobreajuste).\n",
    "\n",
    "\n",
    "- Eje Y (ROC AUC): El área bajo la curva ROC (ROC AUC) es una métrica de rendimiento que mide la capacidad del modelo para clasificar correctamente las clases positivas y negativas. Un valor más alto es mejor, con 1.0 representando un modelo perfecto."
   ]
  },
  {
   "cell_type": "markdown",
   "metadata": {},
   "source": [
    "Se predicen las probabilidad en el conjunto de Test y se calcula la métrica **ROC AUC**:"
   ]
  },
  {
   "cell_type": "code",
   "execution_count": 21,
   "metadata": {},
   "outputs": [
    {
     "name": "stdout",
     "output_type": "stream",
     "text": [
      "ROC AUC score (con ajuste): 0.9495192307692307\n"
     ]
    }
   ],
   "source": [
    "#7. Predicciones con el mejor modelo\n",
    "y_test_pred_prob = modelo_gs.predict_proba(X_test_scaled)\n",
    "print(\"ROC AUC score (con ajuste):\", metrics.roc_auc_score(y_test, y_test_pred_prob[:,1]))"
   ]
  },
  {
   "cell_type": "markdown",
   "metadata": {},
   "source": [
    "**Aquí hay varias razones y consideraciones que podrían explicar por qué el ROC AUC es más bajo en el conjunto de prueba:**\n",
    "\n",
    "1. Sobreajuste durante la Optimización de Hiperparámetros:\n",
    "\n",
    "Aunque la búsqueda de hiperparámetros tiene como objetivo encontrar la configuración que generaliza mejor, a veces puede resultar en un modelo que está sobreajustado a las particularidades del conjunto de entrenamiento. Este sobreajuste puede no ser evidente durante la validación cruzada pero puede manifestarse cuando el modelo se evalúa en nuevos datos (conjunto de prueba).\n",
    "\n",
    "\n",
    "2. Variabilidad de los Datos de Prueba:\n",
    "\n",
    "El conjunto de prueba puede tener características ligeramente diferentes o puede incluir variaciones no capturadas completamente durante el entrenamiento. Esto puede deberse a la distribución de los datos, la presencia de outliers, o simplemente diferencias en las relaciones subyacentes que no fueron totalmente aprendidas por el modelo.\n",
    "\n",
    "\n",
    "3. Diferencias en la Distribución de las Clases:\n",
    "\n",
    "Si la distribución de las clases en el conjunto de prueba es diferente de la del conjunto de entrenamiento (incluso después del uso de técnicas como SMOTE), esto puede afectar el rendimiento del modelo. Por ejemplo, un desequilibrio más pronunciado en el conjunto de prueba podría influir en la capacidad del modelo para clasificar correctamente las instancias de clases minoritarias.\n",
    "\n",
    "\n",
    "4. Estabilidad del Modelo:\n",
    "\n",
    "Algunos modelos pueden ser sensibles a pequeñas variaciones en los datos de entrada, lo que podría llevar a resultados diferentes al cambiar de un conjunto de datos a otro. La regularización y la selección de hiperparámetros ayudan a controlar esto, pero no siempre eliminan completamente la variabilidad."
   ]
  },
  {
   "cell_type": "markdown",
   "metadata": {},
   "source": [
    "## 1.2. Representación de las probabilidades:"
   ]
  },
  {
   "cell_type": "markdown",
   "metadata": {},
   "source": [
    "Se representa la curva ROC de las predicciones en test:"
   ]
  },
  {
   "cell_type": "code",
   "execution_count": 22,
   "metadata": {},
   "outputs": [
    {
     "data": {
      "image/png": "[encoded data removed]",
      "text/plain": [
       "<Figure size 720x504 with 1 Axes>"
      ]
     },
     "metadata": {
      "needs_background": "light"
     },
     "output_type": "display_data"
    }
   ],
   "source": [
    "#8. Curva ROC\n",
    "preds = y_test_pred_prob[:,1]\n",
    "fpr, tpr, threshold = metrics.roc_curve(y_test, preds)\n",
    "roc_auc = metrics.auc(fpr, tpr)\n",
    "\n",
    "plt.figure(figsize=(10,7))\n",
    "plt.title('Receiver Operating Characteristic')\n",
    "plt.plot(fpr, tpr, 'b', label = 'AUC = %0.2f' % roc_auc)\n",
    "plt.legend(loc = 'lower right')\n",
    "plt.plot([0, 1], [0, 1],'r--')\n",
    "plt.xlim([0, 1])\n",
    "plt.ylim([0, 1])\n",
    "plt.ylabel('True Positive Rate')\n",
    "plt.xlabel('False Positive Rate')\n",
    "plt.show()"
   ]
  },
  {
   "cell_type": "markdown",
   "metadata": {},
   "source": [
    "- Curva ROC (línea azul): \n",
    "Muestra la relación entre TPR y FPR. El TPR (también conocido como sensibilidad o recall) está en el eje Y y representa la proporción de positivos reales que se identificaron correctamente como tales por el modelo. El FPR está en el eje X y representa la proporción de negativos reales que fueron incorrectamente clasificados como positivos.\n",
    "\n",
    "\n",
    "- Línea diagonal roja (línea de no discriminación): \n",
    "Esta línea representa una estrategia de clasificación aleatoria. Un clasificador perfecto se ubicaría en la esquina superior izquierda del gráfico, con una TPR de 1 y una FPR de 0.\n",
    "\n",
    "\n",
    "- Área bajo la curva (AUC): \n",
    "El área bajo la curva ROC (AUC) proporcionada en la leyenda como AUC = 0.90 indica la capacidad del modelo para discriminar entre las clases positivas y negativas. El valor de AUC varía de 0.5 a 1, donde 0.5 indica un modelo no mejor que una clasificación aleatoria y 1 indica un modelo perfecto. Un AUC de 0.90 sugiere un muy buen desempeño del modelo en general."
   ]
  },
  {
   "cell_type": "markdown",
   "metadata": {},
   "source": [
    "Se representan los histogramas de probabilidad de las predicciones en test:"
   ]
  },
  {
   "cell_type": "code",
   "execution_count": 23,
   "metadata": {},
   "outputs": [
    {
     "data": {
      "image/png": "[encoded data removed]",
      "text/plain": [
       "<Figure size 432x288 with 1 Axes>"
      ]
     },
     "metadata": {
      "needs_background": "light"
     },
     "output_type": "display_data"
    }
   ],
   "source": [
    "#9. Distribución de probabilidades\n",
    "y_test_pred_prob_pos = y_test_pred_prob[np.where(y_test == 1)[0]]\n",
    "y_test_pred_prob_neg = y_test_pred_prob[np.where(y_test == 0)[0]]\n",
    "\n",
    "represento_doble_hist(y_test_pred_prob_pos[:, 1], y_test_pred_prob_neg[:, 1], n_bins=21, density = 0)"
   ]
  },
  {
   "cell_type": "markdown",
   "metadata": {},
   "source": [
    "**Histogramas de Probabilidad:**\n",
    "\n",
    "- Clase Positiva (1): Representada por el color rojo. Muestra la distribución de las probabilidades predichas por el modelo para los casos que son verdaderamente positivos (personas clasificadas correctamente como 'suicidal').\n",
    "\n",
    "\n",
    "- Clase Negativa (0): Representada por el color verde. Muestra la distribución de las probabilidades para los casos que son verdaderamente negativos.\n",
    "\n",
    "\n",
    "**Ejes:**\n",
    "\n",
    "- Eje X: Muestra el rango de probabilidades predichas (de 0 a 1).\n",
    "\n",
    "\n",
    "- Eje Y: Muestra el recuento de casos en cada bin del histograma."
   ]
  },
  {
   "cell_type": "markdown",
   "metadata": {},
   "source": [
    "#### Cálculo de la sensibilidad:"
   ]
  },
  {
   "cell_type": "code",
   "execution_count": 24,
   "metadata": {},
   "outputs": [
    {
     "data": {
      "text/html": [
       "<div>\n",
       "<style scoped>\n",
       "    .dataframe tbody tr th:only-of-type {\n",
       "        vertical-align: middle;\n",
       "    }\n",
       "\n",
       "    .dataframe tbody tr th {\n",
       "        vertical-align: top;\n",
       "    }\n",
       "\n",
       "    .dataframe thead th {\n",
       "        text-align: right;\n",
       "    }\n",
       "</style>\n",
       "<table border=\"1\" class=\"dataframe\">\n",
       "  <thead>\n",
       "    <tr style=\"text-align: right;\">\n",
       "      <th></th>\n",
       "      <th>Umbral</th>\n",
       "      <th>Sensibilidad</th>\n",
       "    </tr>\n",
       "  </thead>\n",
       "  <tbody>\n",
       "    <tr>\n",
       "      <th>0</th>\n",
       "      <td>0.1</td>\n",
       "      <td>1.000</td>\n",
       "    </tr>\n",
       "    <tr>\n",
       "      <th>1</th>\n",
       "      <td>0.2</td>\n",
       "      <td>1.000</td>\n",
       "    </tr>\n",
       "    <tr>\n",
       "      <th>2</th>\n",
       "      <td>0.3</td>\n",
       "      <td>0.875</td>\n",
       "    </tr>\n",
       "    <tr>\n",
       "      <th>3</th>\n",
       "      <td>0.4</td>\n",
       "      <td>0.875</td>\n",
       "    </tr>\n",
       "    <tr>\n",
       "      <th>4</th>\n",
       "      <td>0.5</td>\n",
       "      <td>0.875</td>\n",
       "    </tr>\n",
       "    <tr>\n",
       "      <th>5</th>\n",
       "      <td>0.6</td>\n",
       "      <td>0.875</td>\n",
       "    </tr>\n",
       "    <tr>\n",
       "      <th>6</th>\n",
       "      <td>0.7</td>\n",
       "      <td>0.750</td>\n",
       "    </tr>\n",
       "    <tr>\n",
       "      <th>7</th>\n",
       "      <td>0.8</td>\n",
       "      <td>0.500</td>\n",
       "    </tr>\n",
       "    <tr>\n",
       "      <th>8</th>\n",
       "      <td>0.9</td>\n",
       "      <td>0.125</td>\n",
       "    </tr>\n",
       "  </tbody>\n",
       "</table>\n",
       "</div>"
      ],
      "text/plain": [
       "   Umbral  Sensibilidad\n",
       "0     0.1         1.000\n",
       "1     0.2         1.000\n",
       "2     0.3         0.875\n",
       "3     0.4         0.875\n",
       "4     0.5         0.875\n",
       "5     0.6         0.875\n",
       "6     0.7         0.750\n",
       "7     0.8         0.500\n",
       "8     0.9         0.125"
      ]
     },
     "execution_count": 24,
     "metadata": {},
     "output_type": "execute_result"
    }
   ],
   "source": [
    "#10. Sensibilidad para diferentes umbrales\n",
    "sensibilidad = {}\n",
    "for umbral in [0.1, 0.2, 0.3, 0.4, 0.5, 0.6, 0.7, 0.8, 0.9]:\n",
    "    y_umbralizadas = 1*(y_test_pred_prob[:, 1] > umbral)\n",
    "    sensibilidad[umbral] = metrics.recall_score(y_test, y_umbralizadas)\n",
    "\n",
    "df_sensibilidad = pd.DataFrame(list(sensibilidad.items()), columns=['Umbral', 'Sensibilidad'])\n",
    "\n",
    "df_sensibilidad"
   ]
  },
  {
   "cell_type": "markdown",
   "metadata": {},
   "source": [
    "#### Cálculo de la precisión:"
   ]
  },
  {
   "cell_type": "code",
   "execution_count": 25,
   "metadata": {},
   "outputs": [
    {
     "data": {
      "text/html": [
       "<div>\n",
       "<style scoped>\n",
       "    .dataframe tbody tr th:only-of-type {\n",
       "        vertical-align: middle;\n",
       "    }\n",
       "\n",
       "    .dataframe tbody tr th {\n",
       "        vertical-align: top;\n",
       "    }\n",
       "\n",
       "    .dataframe thead th {\n",
       "        text-align: right;\n",
       "    }\n",
       "</style>\n",
       "<table border=\"1\" class=\"dataframe\">\n",
       "  <thead>\n",
       "    <tr style=\"text-align: right;\">\n",
       "      <th></th>\n",
       "      <th>Umbral</th>\n",
       "      <th>Precisión</th>\n",
       "    </tr>\n",
       "  </thead>\n",
       "  <tbody>\n",
       "    <tr>\n",
       "      <th>0</th>\n",
       "      <td>0.1</td>\n",
       "      <td>0.186047</td>\n",
       "    </tr>\n",
       "    <tr>\n",
       "      <th>1</th>\n",
       "      <td>0.2</td>\n",
       "      <td>0.216216</td>\n",
       "    </tr>\n",
       "    <tr>\n",
       "      <th>2</th>\n",
       "      <td>0.3</td>\n",
       "      <td>0.218750</td>\n",
       "    </tr>\n",
       "    <tr>\n",
       "      <th>3</th>\n",
       "      <td>0.4</td>\n",
       "      <td>0.241379</td>\n",
       "    </tr>\n",
       "    <tr>\n",
       "      <th>4</th>\n",
       "      <td>0.5</td>\n",
       "      <td>0.250000</td>\n",
       "    </tr>\n",
       "    <tr>\n",
       "      <th>5</th>\n",
       "      <td>0.6</td>\n",
       "      <td>0.291667</td>\n",
       "    </tr>\n",
       "    <tr>\n",
       "      <th>6</th>\n",
       "      <td>0.7</td>\n",
       "      <td>0.285714</td>\n",
       "    </tr>\n",
       "    <tr>\n",
       "      <th>7</th>\n",
       "      <td>0.8</td>\n",
       "      <td>0.307692</td>\n",
       "    </tr>\n",
       "    <tr>\n",
       "      <th>8</th>\n",
       "      <td>0.9</td>\n",
       "      <td>0.250000</td>\n",
       "    </tr>\n",
       "  </tbody>\n",
       "</table>\n",
       "</div>"
      ],
      "text/plain": [
       "   Umbral  Precisión\n",
       "0     0.1   0.186047\n",
       "1     0.2   0.216216\n",
       "2     0.3   0.218750\n",
       "3     0.4   0.241379\n",
       "4     0.5   0.250000\n",
       "5     0.6   0.291667\n",
       "6     0.7   0.285714\n",
       "7     0.8   0.307692\n",
       "8     0.9   0.250000"
      ]
     },
     "execution_count": 25,
     "metadata": {},
     "output_type": "execute_result"
    }
   ],
   "source": [
    "#11. Precisión para diferentes umbrales\n",
    "precisiones = {}\n",
    "for umbral in [0.1, 0.2, 0.3, 0.4, 0.5, 0.6, 0.7, 0.8, 0.9]:\n",
    "    y_umbralizadas = 1*(y_test_pred_prob[:, 1] > umbral)\n",
    "    precisiones[umbral] = metrics.precision_score(y_test, y_umbralizadas)\n",
    "\n",
    "df_precisiones = pd.DataFrame(list(precisiones.items()), columns=['Umbral', 'Precisión'])\n",
    "\n",
    "df_precisiones"
   ]
  },
  {
   "cell_type": "markdown",
   "metadata": {},
   "source": [
    "#### Umbral por defecto."
   ]
  },
  {
   "cell_type": "code",
   "execution_count": 26,
   "metadata": {},
   "outputs": [
    {
     "name": "stdout",
     "output_type": "stream",
     "text": [
      "Matriz de confusión\n",
      " [[187  21]\n",
      " [  1   7]]\n",
      "\n",
      "Accuracy\t0.9\n",
      "Sensitividad\t0.88\n",
      "Precisión\t0.25\n"
     ]
    }
   ],
   "source": [
    "# 12. Matriz de confusión y métricas con el umbral por defecto\n",
    "optimal_threshold = 0.5\n",
    "y_umbralizadas = 1 * (y_test_pred_prob[:, 1] > optimal_threshold)\n",
    "print(u\"Matriz de confusión\\n\", metrics.confusion_matrix(y_test, y_umbralizadas))\n",
    "print(\"\\nAccuracy\\t{}\".format(round(metrics.accuracy_score(y_test, y_umbralizadas), 2)))\n",
    "print(\"Sensitividad\\t{}\".format(round(metrics.recall_score(y_test, y_umbralizadas), 2)))\n",
    "print(u\"Precisión\\t{}\".format(round(metrics.precision_score(y_test, y_umbralizadas), 2)))"
   ]
  },
  {
   "cell_type": "markdown",
   "metadata": {},
   "source": [
    "#### Validación cruzada y ajuste de umbral."
   ]
  },
  {
   "cell_type": "code",
   "execution_count": 27,
   "metadata": {},
   "outputs": [],
   "source": [
    "from sklearn.model_selection import cross_val_predict"
   ]
  },
  {
   "cell_type": "code",
   "execution_count": 28,
   "metadata": {},
   "outputs": [],
   "source": [
    "def evaluate_model_with_cv(model, X, y, cv=5):\n",
    "    cv = StratifiedKFold(n_splits=cv, shuffle=True, random_state=42)\n",
    "    y_probs = cross_val_predict(model, X, y, cv=cv, method='predict_proba')[:, 1]\n",
    "    \n",
    "    fpr, tpr, thresholds = roc_curve(y, y_probs)\n",
    "    optimal_idx = np.argmax(tpr - fpr)\n",
    "    optimal_threshold = thresholds[optimal_idx]\n",
    "    y_pred_optimal = (y_probs >= optimal_threshold).astype(int)\n",
    "    \n",
    "    roc_auc = auc(fpr, tpr)\n",
    "    conf_matrix = confusion_matrix(y, y_pred_optimal)\n",
    "    accuracy = metrics.accuracy_score(y, y_pred_optimal)\n",
    "    recall = metrics.recall_score(y, y_pred_optimal)\n",
    "    precision = metrics.precision_score(y, y_pred_optimal)\n",
    "    \n",
    "    print('Umbral óptimo (validación cruzada):', optimal_threshold)\n",
    "    print('ROC AUC de validación cruzada:', roc_auc)\n",
    "    print('Matriz de confusión (validación cruzada):\\n', conf_matrix)\n",
    "    print(\"\\nAccuracy (validación cruzada):\\t{}\".format(round(accuracy, 2)))\n",
    "    print(\"Sensitividad (validación cruzada):\\t{}\".format(round(recall, 2)))\n",
    "    print(u\"Precisión (validación cruzada):\\t{}\".format(round(precision, 2)))"
   ]
  },
  {
   "cell_type": "code",
   "execution_count": 29,
   "metadata": {},
   "outputs": [
    {
     "name": "stdout",
     "output_type": "stream",
     "text": [
      "Umbral óptimo (validación cruzada): 0.7172852759202158\n",
      "ROC AUC de validación cruzada: 0.9750013191142587\n",
      "Matriz de confusión (validación cruzada):\n",
      " [[376  37]\n",
      " [  6 407]]\n",
      "\n",
      "Accuracy (validación cruzada):\t0.95\n",
      "Sensitividad (validación cruzada):\t0.99\n",
      "Precisión (validación cruzada):\t0.92\n"
     ]
    }
   ],
   "source": [
    "#13. Evalúa el modelo con validación cruzada y ajuste de umbral utilizando los datos de entrenamiento\n",
    "evaluate_model_with_cv(modelo_gs.best_estimator_, X_train_sm, y_train_sm, cv=5)"
   ]
  },
  {
   "cell_type": "markdown",
   "metadata": {},
   "source": [
    "# 2. Modelo KNN."
   ]
  },
  {
   "cell_type": "code",
   "execution_count": 30,
   "metadata": {},
   "outputs": [],
   "source": [
    "from sklearn.neighbors import KNeighborsClassifier"
   ]
  },
  {
   "cell_type": "markdown",
   "metadata": {},
   "source": [
    "#### Ajuste y predicción del modelo:"
   ]
  },
  {
   "cell_type": "code",
   "execution_count": 31,
   "metadata": {},
   "outputs": [
    {
     "data": {
      "text/plain": [
       "KNeighborsClassifier()"
      ]
     },
     "execution_count": 31,
     "metadata": {},
     "output_type": "execute_result"
    }
   ],
   "source": [
    "# 1. Entrenamiento del modelo\n",
    "modelo_KNN = KNeighborsClassifier()\n",
    "# Ajustar el modelo KNN al conjunto de entrenamiento balanceado\n",
    "modelo_KNN.fit(X_train_sm, y_train_sm)"
   ]
  },
  {
   "cell_type": "code",
   "execution_count": 32,
   "metadata": {},
   "outputs": [
    {
     "name": "stdout",
     "output_type": "stream",
     "text": [
      "ROC AUC score (sin ajuste): 0.9155649038461539\n"
     ]
    }
   ],
   "source": [
    "# 2. Predicciones de prueba\n",
    "y_test_pred_prob = modelo_KNN.predict_proba(X_test_scaled)\n",
    "print(\"ROC AUC score (sin ajuste):\", metrics.roc_auc_score(y_test, y_test_pred_prob[:,1]))"
   ]
  },
  {
   "cell_type": "markdown",
   "metadata": {},
   "source": [
    "## 2.2. Optimización de parámetros"
   ]
  },
  {
   "cell_type": "code",
   "execution_count": 33,
   "metadata": {},
   "outputs": [
    {
     "data": {
      "text/plain": [
       "GridSearchCV(cv=5, estimator=KNeighborsClassifier(),\n",
       "             param_grid={'metric': ['euclidean', 'manhattan'],\n",
       "                         'n_neighbors': [3, 5, 7, 9, 11],\n",
       "                         'weights': ['uniform', 'distance']},\n",
       "             scoring='roc_auc')"
      ]
     },
     "execution_count": 33,
     "metadata": {},
     "output_type": "execute_result"
    }
   ],
   "source": [
    "# 3. GridSearch para hiperparámetros con validación cruzada\n",
    "parametros = {\n",
    "    \"n_neighbors\": [3, 5, 7, 9, 11],\n",
    "    \"weights\": ['uniform', 'distance'],\n",
    "    \"metric\": ['euclidean', 'manhattan']\n",
    "}\n",
    "modelo_gs = GridSearchCV(modelo_KNN, param_grid=parametros, cv=5, scoring='roc_auc')\n",
    "modelo_gs.fit(X_train_sm, y_train_sm)"
   ]
  },
  {
   "cell_type": "code",
   "execution_count": 34,
   "metadata": {},
   "outputs": [
    {
     "name": "stdout",
     "output_type": "stream",
     "text": [
      "{'metric': 'manhattan', 'n_neighbors': 11, 'weights': 'distance'} \n",
      "ROC AUC mejorado: 1.0\n"
     ]
    }
   ],
   "source": [
    "# 4. Mejores parámetros y score de ROC AUC\n",
    "print(modelo_gs.best_params_, \"\\nROC AUC mejorado: {}\".format(round(modelo_gs.best_score_,2)))"
   ]
  },
  {
   "cell_type": "code",
   "execution_count": 35,
   "metadata": {},
   "outputs": [],
   "source": [
    "# 5. Resultados de la búsqueda\n",
    "df_search = pd.DataFrame.from_dict(modelo_gs.cv_results_)"
   ]
  },
  {
   "cell_type": "code",
   "execution_count": 36,
   "metadata": {},
   "outputs": [
    {
     "data": {
      "image/png": "[encoded data removed]",
      "text/plain": [
       "<Figure size 432x288 with 1 Axes>"
      ]
     },
     "metadata": {
      "needs_background": "light"
     },
     "output_type": "display_data"
    }
   ],
   "source": [
    "# 6. Gráfico de n_neighbors vs. roc_auc\n",
    "plt.figure()\n",
    "plt.xlabel('n_neighbors')\n",
    "plt.ylabel('roc_auc')\n",
    "_ = plt.plot(df_search['param_n_neighbors'], df_search['mean_test_score'], '.')"
   ]
  },
  {
   "cell_type": "code",
   "execution_count": 37,
   "metadata": {},
   "outputs": [
    {
     "name": "stdout",
     "output_type": "stream",
     "text": [
      "ROC AUC Score (con ajuste): 0.9161658653846154\n"
     ]
    }
   ],
   "source": [
    "# 7. Predicciones con el mejor modelo\n",
    "y_test_pred_prob = modelo_gs.predict_proba(X_test_scaled)\n",
    "print(\"ROC AUC Score (con ajuste):\", metrics.roc_auc_score(y_test, y_test_pred_prob[:, 1]))"
   ]
  },
  {
   "cell_type": "markdown",
   "metadata": {},
   "source": [
    "## 2.2. Representación de las probabilidades:"
   ]
  },
  {
   "cell_type": "markdown",
   "metadata": {},
   "source": [
    "Se representa la curva ROC de las predicciones en test:"
   ]
  },
  {
   "cell_type": "code",
   "execution_count": 38,
   "metadata": {},
   "outputs": [
    {
     "data": {
      "image/png": "[encoded data removed]",
      "text/plain": [
       "<Figure size 720x504 with 1 Axes>"
      ]
     },
     "metadata": {
      "needs_background": "light"
     },
     "output_type": "display_data"
    }
   ],
   "source": [
    "# 8. Curva ROC\n",
    "preds = y_test_pred_prob[:, 1]\n",
    "fpr, tpr, threshold = metrics.roc_curve(y_test, preds)\n",
    "roc_auc = metrics.auc(fpr, tpr)\n",
    "\n",
    "plt.figure(figsize=(10, 7))\n",
    "plt.title('Receiver Operating Characteristic')\n",
    "plt.plot(fpr, tpr, 'b', label='AUC = %0.2f' % roc_auc)\n",
    "plt.legend(loc='lower right')\n",
    "plt.plot([0, 1], [0, 1], 'r--')\n",
    "plt.xlim([0, 1])\n",
    "plt.ylim([0, 1])\n",
    "plt.ylabel('True Positive Rate')\n",
    "plt.xlabel('False Positive Rate')\n",
    "plt.show()"
   ]
  },
  {
   "cell_type": "code",
   "execution_count": 39,
   "metadata": {},
   "outputs": [
    {
     "data": {
      "image/png": "[encoded data removed]",
      "text/plain": [
       "<Figure size 432x288 with 1 Axes>"
      ]
     },
     "metadata": {
      "needs_background": "light"
     },
     "output_type": "display_data"
    }
   ],
   "source": [
    "# 9. Distribución de probabilidades\n",
    "y_test_pred_prob_pos = y_test_pred_prob[np.where(y_test == 1)[0]]\n",
    "y_test_pred_prob_neg = y_test_pred_prob[np.where(y_test == 0)[0]]\n",
    "represento_doble_hist(y_test_pred_prob_pos[:, 1], y_test_pred_prob_neg[:, 1], n_bins=21, density=0)"
   ]
  },
  {
   "cell_type": "markdown",
   "metadata": {},
   "source": [
    "#### Cálculo de la sensibilidad:"
   ]
  },
  {
   "cell_type": "code",
   "execution_count": 40,
   "metadata": {},
   "outputs": [
    {
     "data": {
      "text/html": [
       "<div>\n",
       "<style scoped>\n",
       "    .dataframe tbody tr th:only-of-type {\n",
       "        vertical-align: middle;\n",
       "    }\n",
       "\n",
       "    .dataframe tbody tr th {\n",
       "        vertical-align: top;\n",
       "    }\n",
       "\n",
       "    .dataframe thead th {\n",
       "        text-align: right;\n",
       "    }\n",
       "</style>\n",
       "<table border=\"1\" class=\"dataframe\">\n",
       "  <thead>\n",
       "    <tr style=\"text-align: right;\">\n",
       "      <th></th>\n",
       "      <th>Umbral</th>\n",
       "      <th>Sensibilidad</th>\n",
       "    </tr>\n",
       "  </thead>\n",
       "  <tbody>\n",
       "    <tr>\n",
       "      <th>0</th>\n",
       "      <td>0.1</td>\n",
       "      <td>1.000</td>\n",
       "    </tr>\n",
       "    <tr>\n",
       "      <th>1</th>\n",
       "      <td>0.2</td>\n",
       "      <td>0.875</td>\n",
       "    </tr>\n",
       "    <tr>\n",
       "      <th>2</th>\n",
       "      <td>0.3</td>\n",
       "      <td>0.875</td>\n",
       "    </tr>\n",
       "    <tr>\n",
       "      <th>3</th>\n",
       "      <td>0.4</td>\n",
       "      <td>0.875</td>\n",
       "    </tr>\n",
       "    <tr>\n",
       "      <th>4</th>\n",
       "      <td>0.5</td>\n",
       "      <td>0.625</td>\n",
       "    </tr>\n",
       "    <tr>\n",
       "      <th>5</th>\n",
       "      <td>0.6</td>\n",
       "      <td>0.500</td>\n",
       "    </tr>\n",
       "    <tr>\n",
       "      <th>6</th>\n",
       "      <td>0.7</td>\n",
       "      <td>0.375</td>\n",
       "    </tr>\n",
       "    <tr>\n",
       "      <th>7</th>\n",
       "      <td>0.8</td>\n",
       "      <td>0.250</td>\n",
       "    </tr>\n",
       "    <tr>\n",
       "      <th>8</th>\n",
       "      <td>0.9</td>\n",
       "      <td>0.125</td>\n",
       "    </tr>\n",
       "  </tbody>\n",
       "</table>\n",
       "</div>"
      ],
      "text/plain": [
       "   Umbral  Sensibilidad\n",
       "0     0.1         1.000\n",
       "1     0.2         0.875\n",
       "2     0.3         0.875\n",
       "3     0.4         0.875\n",
       "4     0.5         0.625\n",
       "5     0.6         0.500\n",
       "6     0.7         0.375\n",
       "7     0.8         0.250\n",
       "8     0.9         0.125"
      ]
     },
     "execution_count": 40,
     "metadata": {},
     "output_type": "execute_result"
    }
   ],
   "source": [
    "# 10. Sensibilidad para diferentes umbrales\n",
    "sensibilidad = {}\n",
    "for umbral in [0.1, 0.2, 0.3, 0.4, 0.5, 0.6, 0.7, 0.8, 0.9]:\n",
    "    y_umbralizadas = 1 * (y_test_pred_prob[:, 1] > umbral)\n",
    "    sensibilidad[umbral] = metrics.recall_score(y_test, y_umbralizadas)\n",
    "\n",
    "# Crear un DataFrame a partir del diccionario\n",
    "df_sensibilidad = pd.DataFrame(list(sensibilidad.items()), columns=['Umbral', 'Sensibilidad'])\n",
    "\n",
    "# Imprimir la tabla\n",
    "df_sensibilidad"
   ]
  },
  {
   "cell_type": "markdown",
   "metadata": {},
   "source": [
    "#### Cálculo de la precisión:"
   ]
  },
  {
   "cell_type": "code",
   "execution_count": 41,
   "metadata": {},
   "outputs": [
    {
     "data": {
      "text/html": [
       "<div>\n",
       "<style scoped>\n",
       "    .dataframe tbody tr th:only-of-type {\n",
       "        vertical-align: middle;\n",
       "    }\n",
       "\n",
       "    .dataframe tbody tr th {\n",
       "        vertical-align: top;\n",
       "    }\n",
       "\n",
       "    .dataframe thead th {\n",
       "        text-align: right;\n",
       "    }\n",
       "</style>\n",
       "<table border=\"1\" class=\"dataframe\">\n",
       "  <thead>\n",
       "    <tr style=\"text-align: right;\">\n",
       "      <th></th>\n",
       "      <th>Umbral</th>\n",
       "      <th>Precisión</th>\n",
       "    </tr>\n",
       "  </thead>\n",
       "  <tbody>\n",
       "    <tr>\n",
       "      <th>0</th>\n",
       "      <td>0.1</td>\n",
       "      <td>0.186047</td>\n",
       "    </tr>\n",
       "    <tr>\n",
       "      <th>1</th>\n",
       "      <td>0.2</td>\n",
       "      <td>0.179487</td>\n",
       "    </tr>\n",
       "    <tr>\n",
       "      <th>2</th>\n",
       "      <td>0.3</td>\n",
       "      <td>0.189189</td>\n",
       "    </tr>\n",
       "    <tr>\n",
       "      <th>3</th>\n",
       "      <td>0.4</td>\n",
       "      <td>0.218750</td>\n",
       "    </tr>\n",
       "    <tr>\n",
       "      <th>4</th>\n",
       "      <td>0.5</td>\n",
       "      <td>0.172414</td>\n",
       "    </tr>\n",
       "    <tr>\n",
       "      <th>5</th>\n",
       "      <td>0.6</td>\n",
       "      <td>0.181818</td>\n",
       "    </tr>\n",
       "    <tr>\n",
       "      <th>6</th>\n",
       "      <td>0.7</td>\n",
       "      <td>0.166667</td>\n",
       "    </tr>\n",
       "    <tr>\n",
       "      <th>7</th>\n",
       "      <td>0.8</td>\n",
       "      <td>0.166667</td>\n",
       "    </tr>\n",
       "    <tr>\n",
       "      <th>8</th>\n",
       "      <td>0.9</td>\n",
       "      <td>0.125000</td>\n",
       "    </tr>\n",
       "  </tbody>\n",
       "</table>\n",
       "</div>"
      ],
      "text/plain": [
       "   Umbral  Precisión\n",
       "0     0.1   0.186047\n",
       "1     0.2   0.179487\n",
       "2     0.3   0.189189\n",
       "3     0.4   0.218750\n",
       "4     0.5   0.172414\n",
       "5     0.6   0.181818\n",
       "6     0.7   0.166667\n",
       "7     0.8   0.166667\n",
       "8     0.9   0.125000"
      ]
     },
     "execution_count": 41,
     "metadata": {},
     "output_type": "execute_result"
    }
   ],
   "source": [
    "#11. Precisión para diferentes umbrales\n",
    "precisiones = {}\n",
    "for umbral in [0.1, 0.2, 0.3, 0.4, 0.5, 0.6, 0.7, 0.8, 0.9]:\n",
    "    y_umbralizadas = 1*(y_test_pred_prob[:, 1] > umbral)\n",
    "    precisiones[umbral] = metrics.precision_score(y_test, y_umbralizadas)\n",
    "# Crear un DataFrame a partir del diccionario\n",
    "df_precision = pd.DataFrame(list(precisiones.items()), columns=['Umbral', 'Precisión'])\n",
    "\n",
    "# Imprimir la tabla\n",
    "df_precision"
   ]
  },
  {
   "cell_type": "markdown",
   "metadata": {},
   "source": [
    "#### Umbral por defecto"
   ]
  },
  {
   "cell_type": "code",
   "execution_count": 42,
   "metadata": {},
   "outputs": [
    {
     "name": "stdout",
     "output_type": "stream",
     "text": [
      "Matriz de confusión\n",
      " [[184  24]\n",
      " [  3   5]]\n",
      "\n",
      "Accuracy\t0.88\n",
      "Sensitividad\t0.62\n",
      "Precisión\t0.17\n"
     ]
    }
   ],
   "source": [
    "# 12. Matriz de confusión y métricas con el umbral por defecto.\n",
    "optimal_threshold = 0.5\n",
    "y_umbralizadas = 1 * (y_test_pred_prob[:, 1] > optimal_threshold)\n",
    "print(u\"Matriz de confusión\\n\", metrics.confusion_matrix(y_test, y_umbralizadas))\n",
    "print(\"\\nAccuracy\\t{}\".format(round(metrics.accuracy_score(y_test, y_umbralizadas), 2)))\n",
    "print(\"Sensitividad\\t{}\".format(round(metrics.recall_score(y_test, y_umbralizadas), 2)))\n",
    "print(u\"Precisión\\t{}\".format(round(metrics.precision_score(y_test, y_umbralizadas), 2)))"
   ]
  },
  {
   "cell_type": "markdown",
   "metadata": {},
   "source": [
    "#### Validación cruzada y ajuste de umbral."
   ]
  },
  {
   "cell_type": "code",
   "execution_count": 43,
   "metadata": {},
   "outputs": [
    {
     "name": "stdout",
     "output_type": "stream",
     "text": [
      "Umbral óptimo (validación cruzada): 0.8485634082278083\n",
      "ROC AUC de validación cruzada: 0.9924634605350328\n",
      "Matriz de confusión (validación cruzada):\n",
      " [[400  13]\n",
      " [  3 410]]\n",
      "\n",
      "Accuracy (validación cruzada):\t0.98\n",
      "Sensitividad (validación cruzada):\t0.99\n",
      "Precisión (validación cruzada):\t0.97\n"
     ]
    }
   ],
   "source": [
    "#13. Validación cruzada con ajuste de umbral\n",
    "# Evalúa el modelo con validación cruzada y ajuste de umbral utilizando los datos de entrenamiento\n",
    "evaluate_model_with_cv(modelo_gs.best_estimator_, X_train_sm, y_train_sm, cv=5)"
   ]
  },
  {
   "cell_type": "markdown",
   "metadata": {},
   "source": [
    "# 3. Modelo Árboles de Decisión."
   ]
  },
  {
   "cell_type": "code",
   "execution_count": 44,
   "metadata": {},
   "outputs": [],
   "source": [
    "from sklearn.tree import DecisionTreeClassifier"
   ]
  },
  {
   "cell_type": "markdown",
   "metadata": {},
   "source": [
    "#### Ajuste y predicción del modelo:"
   ]
  },
  {
   "cell_type": "code",
   "execution_count": 45,
   "metadata": {},
   "outputs": [
    {
     "data": {
      "text/plain": [
       "DecisionTreeClassifier()"
      ]
     },
     "execution_count": 45,
     "metadata": {},
     "output_type": "execute_result"
    }
   ],
   "source": [
    "# 1. Entrenamiento del modelo\n",
    "modelo_DT = DecisionTreeClassifier()\n",
    "modelo_DT.fit(X_train_sm, y_train_sm)"
   ]
  },
  {
   "cell_type": "code",
   "execution_count": 46,
   "metadata": {},
   "outputs": [
    {
     "name": "stdout",
     "output_type": "stream",
     "text": [
      "ROC AUC Score (sin ajuste): 0.6754807692307693\n"
     ]
    }
   ],
   "source": [
    "# 2. Predicciones de prueba\n",
    "y_test_pred_prob = modelo_DT.predict_proba(X_test_scaled)\n",
    "print(\"ROC AUC Score (sin ajuste):\", metrics.roc_auc_score(y_test, y_test_pred_prob[:, 1]))"
   ]
  },
  {
   "cell_type": "markdown",
   "metadata": {},
   "source": [
    "## 3.1. Optimización de parámetros"
   ]
  },
  {
   "cell_type": "code",
   "execution_count": 47,
   "metadata": {},
   "outputs": [
    {
     "data": {
      "text/plain": [
       "GridSearchCV(cv=5, estimator=DecisionTreeClassifier(),\n",
       "             param_grid={'max_depth': [3, 5, 7, 9, 11],\n",
       "                         'min_samples_split': [2, 5, 10, 20]},\n",
       "             scoring='roc_auc')"
      ]
     },
     "execution_count": 47,
     "metadata": {},
     "output_type": "execute_result"
    }
   ],
   "source": [
    "# 3. GridSearch para hiperparámetros con validación cruzada\n",
    "parametros = {\"max_depth\": [3, 5, 7, 9, 11], \n",
    "              \"min_samples_split\": [2, 5, 10, 20]}\n",
    "modelo_gs = GridSearchCV(modelo_DT, param_grid=parametros, cv=5, scoring='roc_auc')\n",
    "modelo_gs.fit(X_train_sm, y_train_sm)"
   ]
  },
  {
   "cell_type": "code",
   "execution_count": 48,
   "metadata": {},
   "outputs": [
    {
     "name": "stdout",
     "output_type": "stream",
     "text": [
      "{'max_depth': 9, 'min_samples_split': 20} \n",
      "ROC AUC: 0.99\n"
     ]
    }
   ],
   "source": [
    "# 4. Mejores parámetros y score de ROC AUC\n",
    "print(modelo_gs.best_params_, \"\\nROC AUC: {}\".format(round(modelo_gs.best_score_, 2)))"
   ]
  },
  {
   "cell_type": "code",
   "execution_count": 49,
   "metadata": {},
   "outputs": [],
   "source": [
    "# 5. Resultados de la búsqueda\n",
    "df_search = pd.DataFrame.from_dict(modelo_gs.cv_results_)"
   ]
  },
  {
   "cell_type": "code",
   "execution_count": 50,
   "metadata": {},
   "outputs": [
    {
     "data": {
      "image/png": "[encoded data removed]",
      "text/plain": [
       "<Figure size 432x288 with 1 Axes>"
      ]
     },
     "metadata": {
      "needs_background": "light"
     },
     "output_type": "display_data"
    }
   ],
   "source": [
    "# 6. Gráfico de max_depth vs. roc_auc\n",
    "plt.xlabel('max_depth')\n",
    "plt.ylabel('roc_auc')\n",
    "_ = plt.plot(df_search['param_max_depth'], df_search['mean_test_score'], '.')"
   ]
  },
  {
   "cell_type": "code",
   "execution_count": 51,
   "metadata": {},
   "outputs": [
    {
     "name": "stdout",
     "output_type": "stream",
     "text": [
      "ROC AUC Score (con ajuste): 0.844951923076923\n"
     ]
    }
   ],
   "source": [
    "# 7. Predicciones con el mejor modelo\n",
    "y_test_pred_prob = modelo_gs.predict_proba(X_test_scaled)\n",
    "print(\"ROC AUC Score (con ajuste):\", metrics.roc_auc_score(y_test, y_test_pred_prob[:, 1]))"
   ]
  },
  {
   "cell_type": "markdown",
   "metadata": {},
   "source": [
    "## 3.2. Representación de las probabilidades:"
   ]
  },
  {
   "cell_type": "markdown",
   "metadata": {},
   "source": [
    "Se representa la curva ROC de las predicciones en test:"
   ]
  },
  {
   "cell_type": "code",
   "execution_count": 52,
   "metadata": {},
   "outputs": [
    {
     "data": {
      "image/png": "[encoded data removed]",
      "text/plain": [
       "<Figure size 720x504 with 1 Axes>"
      ]
     },
     "metadata": {
      "needs_background": "light"
     },
     "output_type": "display_data"
    }
   ],
   "source": [
    "# 8. Curva ROC\n",
    "preds = y_test_pred_prob[:, 1]\n",
    "fpr, tpr, threshold = metrics.roc_curve(y_test, preds)\n",
    "roc_auc = metrics.auc(fpr, tpr)\n",
    "\n",
    "plt.figure(figsize=(10, 7))\n",
    "plt.title('Receiver Operating Characteristic')\n",
    "plt.plot(fpr, tpr, 'b', label='AUC = %0.2f' % roc_auc)\n",
    "plt.legend(loc='lower right')\n",
    "plt.plot([0, 1], [0, 1], 'r--')\n",
    "plt.xlim([0, 1])\n",
    "plt.ylim([0, 1])\n",
    "plt.ylabel('True Positive Rate')\n",
    "plt.xlabel('False Positive Rate')\n",
    "plt.show()"
   ]
  },
  {
   "cell_type": "code",
   "execution_count": 53,
   "metadata": {},
   "outputs": [
    {
     "data": {
      "image/png": "[encoded data removed]",
      "text/plain": [
       "<Figure size 432x288 with 1 Axes>"
      ]
     },
     "metadata": {
      "needs_background": "light"
     },
     "output_type": "display_data"
    }
   ],
   "source": [
    "# 9. Distribución de probabilidades\n",
    "y_test_pred_prob_pos = y_test_pred_prob[np.where(y_test == 1)[0]]\n",
    "y_test_pred_prob_neg = y_test_pred_prob[np.where(y_test == 0)[0]]\n",
    "represento_doble_hist(y_test_pred_prob_pos[:, 1], y_test_pred_prob_neg[:, 1], n_bins=21, density=0)"
   ]
  },
  {
   "cell_type": "markdown",
   "metadata": {},
   "source": [
    "#### Cálculo de la sensibilidad:"
   ]
  },
  {
   "cell_type": "code",
   "execution_count": 54,
   "metadata": {},
   "outputs": [
    {
     "data": {
      "text/html": [
       "<div>\n",
       "<style scoped>\n",
       "    .dataframe tbody tr th:only-of-type {\n",
       "        vertical-align: middle;\n",
       "    }\n",
       "\n",
       "    .dataframe tbody tr th {\n",
       "        vertical-align: top;\n",
       "    }\n",
       "\n",
       "    .dataframe thead th {\n",
       "        text-align: right;\n",
       "    }\n",
       "</style>\n",
       "<table border=\"1\" class=\"dataframe\">\n",
       "  <thead>\n",
       "    <tr style=\"text-align: right;\">\n",
       "      <th></th>\n",
       "      <th>Umbral</th>\n",
       "      <th>Sensibilidad</th>\n",
       "    </tr>\n",
       "  </thead>\n",
       "  <tbody>\n",
       "    <tr>\n",
       "      <th>0</th>\n",
       "      <td>0.1</td>\n",
       "      <td>0.5</td>\n",
       "    </tr>\n",
       "    <tr>\n",
       "      <th>1</th>\n",
       "      <td>0.2</td>\n",
       "      <td>0.5</td>\n",
       "    </tr>\n",
       "    <tr>\n",
       "      <th>2</th>\n",
       "      <td>0.3</td>\n",
       "      <td>0.5</td>\n",
       "    </tr>\n",
       "    <tr>\n",
       "      <th>3</th>\n",
       "      <td>0.4</td>\n",
       "      <td>0.5</td>\n",
       "    </tr>\n",
       "    <tr>\n",
       "      <th>4</th>\n",
       "      <td>0.5</td>\n",
       "      <td>0.5</td>\n",
       "    </tr>\n",
       "    <tr>\n",
       "      <th>5</th>\n",
       "      <td>0.6</td>\n",
       "      <td>0.5</td>\n",
       "    </tr>\n",
       "    <tr>\n",
       "      <th>6</th>\n",
       "      <td>0.7</td>\n",
       "      <td>0.5</td>\n",
       "    </tr>\n",
       "    <tr>\n",
       "      <th>7</th>\n",
       "      <td>0.8</td>\n",
       "      <td>0.5</td>\n",
       "    </tr>\n",
       "    <tr>\n",
       "      <th>8</th>\n",
       "      <td>0.9</td>\n",
       "      <td>0.5</td>\n",
       "    </tr>\n",
       "  </tbody>\n",
       "</table>\n",
       "</div>"
      ],
      "text/plain": [
       "   Umbral  Sensibilidad\n",
       "0     0.1           0.5\n",
       "1     0.2           0.5\n",
       "2     0.3           0.5\n",
       "3     0.4           0.5\n",
       "4     0.5           0.5\n",
       "5     0.6           0.5\n",
       "6     0.7           0.5\n",
       "7     0.8           0.5\n",
       "8     0.9           0.5"
      ]
     },
     "execution_count": 54,
     "metadata": {},
     "output_type": "execute_result"
    }
   ],
   "source": [
    "# 10. Sensibilidad para diferentes umbrales\n",
    "sensibilidad = {}\n",
    "for umbral in [0.1, 0.2, 0.3, 0.4, 0.5, 0.6, 0.7, 0.8, 0.9]:\n",
    "    y_umbralizadas = 1 * (y_test_pred_prob[:, 1] > umbral)\n",
    "    sensibilidad[umbral] = metrics.recall_score(y_test, y_umbralizadas)\n",
    "\n",
    "# Crear un DataFrame a partir del diccionario\n",
    "df_sensibilidad = pd.DataFrame(list(sensibilidad.items()), columns=['Umbral', 'Sensibilidad'])\n",
    "\n",
    "# Imprimir la tabla\n",
    "df_sensibilidad"
   ]
  },
  {
   "cell_type": "markdown",
   "metadata": {},
   "source": [
    "#### Cálculo de la precisión:"
   ]
  },
  {
   "cell_type": "code",
   "execution_count": 55,
   "metadata": {},
   "outputs": [
    {
     "data": {
      "text/html": [
       "<div>\n",
       "<style scoped>\n",
       "    .dataframe tbody tr th:only-of-type {\n",
       "        vertical-align: middle;\n",
       "    }\n",
       "\n",
       "    .dataframe tbody tr th {\n",
       "        vertical-align: top;\n",
       "    }\n",
       "\n",
       "    .dataframe thead th {\n",
       "        text-align: right;\n",
       "    }\n",
       "</style>\n",
       "<table border=\"1\" class=\"dataframe\">\n",
       "  <thead>\n",
       "    <tr style=\"text-align: right;\">\n",
       "      <th></th>\n",
       "      <th>Umbral</th>\n",
       "      <th>Precisión</th>\n",
       "    </tr>\n",
       "  </thead>\n",
       "  <tbody>\n",
       "    <tr>\n",
       "      <th>0</th>\n",
       "      <td>0.1</td>\n",
       "      <td>0.363636</td>\n",
       "    </tr>\n",
       "    <tr>\n",
       "      <th>1</th>\n",
       "      <td>0.2</td>\n",
       "      <td>0.500000</td>\n",
       "    </tr>\n",
       "    <tr>\n",
       "      <th>2</th>\n",
       "      <td>0.3</td>\n",
       "      <td>0.500000</td>\n",
       "    </tr>\n",
       "    <tr>\n",
       "      <th>3</th>\n",
       "      <td>0.4</td>\n",
       "      <td>0.500000</td>\n",
       "    </tr>\n",
       "    <tr>\n",
       "      <th>4</th>\n",
       "      <td>0.5</td>\n",
       "      <td>0.500000</td>\n",
       "    </tr>\n",
       "    <tr>\n",
       "      <th>5</th>\n",
       "      <td>0.6</td>\n",
       "      <td>0.500000</td>\n",
       "    </tr>\n",
       "    <tr>\n",
       "      <th>6</th>\n",
       "      <td>0.7</td>\n",
       "      <td>0.500000</td>\n",
       "    </tr>\n",
       "    <tr>\n",
       "      <th>7</th>\n",
       "      <td>0.8</td>\n",
       "      <td>0.500000</td>\n",
       "    </tr>\n",
       "    <tr>\n",
       "      <th>8</th>\n",
       "      <td>0.9</td>\n",
       "      <td>0.500000</td>\n",
       "    </tr>\n",
       "  </tbody>\n",
       "</table>\n",
       "</div>"
      ],
      "text/plain": [
       "   Umbral  Precisión\n",
       "0     0.1   0.363636\n",
       "1     0.2   0.500000\n",
       "2     0.3   0.500000\n",
       "3     0.4   0.500000\n",
       "4     0.5   0.500000\n",
       "5     0.6   0.500000\n",
       "6     0.7   0.500000\n",
       "7     0.8   0.500000\n",
       "8     0.9   0.500000"
      ]
     },
     "execution_count": 55,
     "metadata": {},
     "output_type": "execute_result"
    }
   ],
   "source": [
    "# 11. Precisión para diferentes umbrales\n",
    "precisiones = {}\n",
    "for umbral in [0.1, 0.2, 0.3, 0.4, 0.5, 0.6, 0.7, 0.8, 0.9]:\n",
    "    y_umbralizadas = 1 * (y_test_pred_prob[:, 1] > umbral)\n",
    "    precisiones[umbral] = metrics.precision_score(y_test, y_umbralizadas)\n",
    "\n",
    "# Crear un DataFrame a partir del diccionario\n",
    "df_precision = pd.DataFrame(list(precisiones.items()), columns=['Umbral', 'Precisión'])\n",
    "\n",
    "# Imprimir la tabla\n",
    "df_precision"
   ]
  },
  {
   "cell_type": "markdown",
   "metadata": {},
   "source": [
    "#### Cálculo de las métricas accuracy, sensibilidad, predicción y la matriz de confusión con el umbral por defecto"
   ]
  },
  {
   "cell_type": "code",
   "execution_count": 56,
   "metadata": {
    "scrolled": true
   },
   "outputs": [
    {
     "name": "stdout",
     "output_type": "stream",
     "text": [
      "Matriz de confusión\n",
      " [[204   4]\n",
      " [  4   4]]\n",
      "\n",
      "Accuracy\t0.96\n",
      "Sensitividad\t0.5\n",
      "Precisión\t0.5\n"
     ]
    }
   ],
   "source": [
    "# 12. Matriz de confusión y métricas con el umbral por defecto\n",
    "optimal_threshold = 0.5\n",
    "y_umbralizadas = 1 * (y_test_pred_prob[:, 1] > optimal_threshold)\n",
    "print(u\"Matriz de confusión\\n\", metrics.confusion_matrix(y_test, y_umbralizadas))\n",
    "print(\"\\nAccuracy\\t{}\".format(round(metrics.accuracy_score(y_test, y_umbralizadas), 2)))\n",
    "print(\"Sensitividad\\t{}\".format(round(metrics.recall_score(y_test, y_umbralizadas), 2)))\n",
    "print(u\"Precisión\\t{}\".format(round(metrics.precision_score(y_test, y_umbralizadas), 2)))"
   ]
  },
  {
   "cell_type": "markdown",
   "metadata": {},
   "source": [
    "#### Validación cruzada y umbral óptimo"
   ]
  },
  {
   "cell_type": "code",
   "execution_count": 57,
   "metadata": {},
   "outputs": [
    {
     "name": "stdout",
     "output_type": "stream",
     "text": [
      "Umbral óptimo (validación cruzada): 0.6666666666666666\n",
      "ROC AUC de validación cruzada: 0.9883302358576295\n",
      "Matriz de confusión (validación cruzada):\n",
      " [[400  13]\n",
      " [ 13 400]]\n",
      "\n",
      "Accuracy (validación cruzada):\t0.97\n",
      "Sensitividad (validación cruzada):\t0.97\n",
      "Precisión (validación cruzada):\t0.97\n"
     ]
    }
   ],
   "source": [
    "#13. Evalúa el modelo con validación cruzada y ajuste de umbral utilizando los datos de entrenamiento\n",
    "evaluate_model_with_cv(modelo_gs.best_estimator_, X_train_sm, y_train_sm, cv=5)"
   ]
  },
  {
   "cell_type": "markdown",
   "metadata": {},
   "source": [
    "# 4. Random forest."
   ]
  },
  {
   "cell_type": "code",
   "execution_count": 58,
   "metadata": {},
   "outputs": [],
   "source": [
    "from sklearn.ensemble import RandomForestClassifier"
   ]
  },
  {
   "cell_type": "markdown",
   "metadata": {},
   "source": [
    "#### Ajuste y predicción del modelo:"
   ]
  },
  {
   "cell_type": "code",
   "execution_count": 59,
   "metadata": {},
   "outputs": [
    {
     "data": {
      "text/plain": [
       "RandomForestClassifier()"
      ]
     },
     "execution_count": 59,
     "metadata": {},
     "output_type": "execute_result"
    }
   ],
   "source": [
    "# 1. Entrenamiento del modelo\n",
    "modelo_RF = RandomForestClassifier()\n",
    "modelo_RF.fit(X_train_sm, y_train_sm)"
   ]
  },
  {
   "cell_type": "code",
   "execution_count": 60,
   "metadata": {},
   "outputs": [
    {
     "name": "stdout",
     "output_type": "stream",
     "text": [
      "ROC AUC Score (sin ajuste): 0.9441105769230769\n"
     ]
    }
   ],
   "source": [
    "# 2. Predicciones de prueba\n",
    "y_test_pred_prob = modelo_RF.predict_proba(X_test_scaled)\n",
    "print(\"ROC AUC Score (sin ajuste):\", metrics.roc_auc_score(y_test, y_test_pred_prob[:, 1]))"
   ]
  },
  {
   "cell_type": "markdown",
   "metadata": {},
   "source": [
    "## 4.1. Optimización de parámetros"
   ]
  },
  {
   "cell_type": "code",
   "execution_count": 61,
   "metadata": {},
   "outputs": [
    {
     "data": {
      "text/plain": [
       "GridSearchCV(cv=5, estimator=RandomForestClassifier(),\n",
       "             param_grid={'max_depth': [3, 5, 7, 9, 11],\n",
       "                         'min_samples_split': [2, 5, 10, 20],\n",
       "                         'n_estimators': [50, 100, 200]},\n",
       "             scoring='roc_auc')"
      ]
     },
     "execution_count": 61,
     "metadata": {},
     "output_type": "execute_result"
    }
   ],
   "source": [
    "# 3. GridSearch para hiperparámetros con validación cruzada\n",
    "parametros = {\"n_estimators\": [50, 100, 200], \n",
    "              \"max_depth\": [3, 5, 7, 9, 11], \n",
    "              \"min_samples_split\": [2, 5, 10, 20]}\n",
    "modelo_gs = GridSearchCV(modelo_RF, param_grid=parametros, cv=5, scoring='roc_auc')\n",
    "modelo_gs.fit(X_train_sm, y_train_sm)"
   ]
  },
  {
   "cell_type": "code",
   "execution_count": 62,
   "metadata": {},
   "outputs": [
    {
     "name": "stdout",
     "output_type": "stream",
     "text": [
      "{'max_depth': 11, 'min_samples_split': 2, 'n_estimators': 100} \n",
      "ROC AUC: 1.0\n"
     ]
    }
   ],
   "source": [
    "# 4. Mejores parámetros y score de ROC AUC\n",
    "print(modelo_gs.best_params_, \"\\nROC AUC: {}\".format(round(modelo_gs.best_score_, 2)))"
   ]
  },
  {
   "cell_type": "code",
   "execution_count": 63,
   "metadata": {},
   "outputs": [],
   "source": [
    "# 5. Resultados de la búsqueda\n",
    "df_search = pd.DataFrame.from_dict(modelo_gs.cv_results_)"
   ]
  },
  {
   "cell_type": "code",
   "execution_count": 64,
   "metadata": {},
   "outputs": [
    {
     "data": {
      "image/png": "[encoded data removed]",
      "text/plain": [
       "<Figure size 432x288 with 1 Axes>"
      ]
     },
     "metadata": {
      "needs_background": "light"
     },
     "output_type": "display_data"
    }
   ],
   "source": [
    "# 6. Gráfico de max_depth vs. roc_auc\n",
    "plt.xlabel('max_depth')\n",
    "plt.ylabel('roc_auc')\n",
    "_ = plt.plot(df_search['param_max_depth'], df_search['mean_test_score'], '.')"
   ]
  },
  {
   "cell_type": "code",
   "execution_count": 65,
   "metadata": {},
   "outputs": [
    {
     "name": "stdout",
     "output_type": "stream",
     "text": [
      "ROC AUC Score (con ajuste): 0.9543269230769231\n"
     ]
    }
   ],
   "source": [
    "# 7. Predicciones con el mejor modelo\n",
    "y_test_pred_prob = modelo_gs.predict_proba(X_test_scaled)\n",
    "print(\"ROC AUC Score (con ajuste):\", metrics.roc_auc_score(y_test, y_test_pred_prob[:, 1]))"
   ]
  },
  {
   "cell_type": "markdown",
   "metadata": {},
   "source": [
    "## 4.3. Representación de las probabilidades:"
   ]
  },
  {
   "cell_type": "markdown",
   "metadata": {},
   "source": [
    "Se representa la curva ROC de las predicciones en test:"
   ]
  },
  {
   "cell_type": "code",
   "execution_count": 66,
   "metadata": {},
   "outputs": [
    {
     "data": {
      "image/png": "[encoded data removed]",
      "text/plain": [
       "<Figure size 720x504 with 1 Axes>"
      ]
     },
     "metadata": {
      "needs_background": "light"
     },
     "output_type": "display_data"
    }
   ],
   "source": [
    "# 8. Curva ROC\n",
    "preds = y_test_pred_prob[:, 1]\n",
    "fpr, tpr, threshold = metrics.roc_curve(y_test, preds)\n",
    "roc_auc = metrics.auc(fpr, tpr)\n",
    "\n",
    "plt.figure(figsize=(10, 7))\n",
    "plt.title('Receiver Operating Characteristic')\n",
    "plt.plot(fpr, tpr, 'b', label='AUC = %0.2f' % roc_auc)\n",
    "plt.legend(loc='lower right')\n",
    "plt.plot([0, 1], [0, 1], 'r--')\n",
    "plt.xlim([0, 1])\n",
    "plt.ylim([0, 1])\n",
    "plt.ylabel('True Positive Rate')\n",
    "plt.xlabel('False Positive Rate')\n",
    "plt.show()"
   ]
  },
  {
   "cell_type": "code",
   "execution_count": 67,
   "metadata": {},
   "outputs": [
    {
     "data": {
      "image/png": "[encoded data removed]",
      "text/plain": [
       "<Figure size 432x288 with 1 Axes>"
      ]
     },
     "metadata": {
      "needs_background": "light"
     },
     "output_type": "display_data"
    }
   ],
   "source": [
    "# 9. Distribución de probabilidades\n",
    "y_test_pred_prob_pos = y_test_pred_prob[np.where(y_test == 1)[0]]\n",
    "y_test_pred_prob_neg = y_test_pred_prob[np.where(y_test == 0)[0]]\n",
    "represento_doble_hist(y_test_pred_prob_pos[:, 1], y_test_pred_prob_neg[:, 1], n_bins=21, density=0)"
   ]
  },
  {
   "cell_type": "markdown",
   "metadata": {},
   "source": [
    "#### Cálculo de la sensibilidad y precisiones:"
   ]
  },
  {
   "cell_type": "code",
   "execution_count": 68,
   "metadata": {},
   "outputs": [
    {
     "data": {
      "text/html": [
       "<div>\n",
       "<style scoped>\n",
       "    .dataframe tbody tr th:only-of-type {\n",
       "        vertical-align: middle;\n",
       "    }\n",
       "\n",
       "    .dataframe tbody tr th {\n",
       "        vertical-align: top;\n",
       "    }\n",
       "\n",
       "    .dataframe thead th {\n",
       "        text-align: right;\n",
       "    }\n",
       "</style>\n",
       "<table border=\"1\" class=\"dataframe\">\n",
       "  <thead>\n",
       "    <tr style=\"text-align: right;\">\n",
       "      <th></th>\n",
       "      <th>Umbral</th>\n",
       "      <th>Sensibilidad</th>\n",
       "    </tr>\n",
       "  </thead>\n",
       "  <tbody>\n",
       "    <tr>\n",
       "      <th>0</th>\n",
       "      <td>0.1</td>\n",
       "      <td>1.000</td>\n",
       "    </tr>\n",
       "    <tr>\n",
       "      <th>1</th>\n",
       "      <td>0.2</td>\n",
       "      <td>0.875</td>\n",
       "    </tr>\n",
       "    <tr>\n",
       "      <th>2</th>\n",
       "      <td>0.3</td>\n",
       "      <td>0.750</td>\n",
       "    </tr>\n",
       "    <tr>\n",
       "      <th>3</th>\n",
       "      <td>0.4</td>\n",
       "      <td>0.500</td>\n",
       "    </tr>\n",
       "    <tr>\n",
       "      <th>4</th>\n",
       "      <td>0.5</td>\n",
       "      <td>0.500</td>\n",
       "    </tr>\n",
       "    <tr>\n",
       "      <th>5</th>\n",
       "      <td>0.6</td>\n",
       "      <td>0.250</td>\n",
       "    </tr>\n",
       "    <tr>\n",
       "      <th>6</th>\n",
       "      <td>0.7</td>\n",
       "      <td>0.000</td>\n",
       "    </tr>\n",
       "    <tr>\n",
       "      <th>7</th>\n",
       "      <td>0.8</td>\n",
       "      <td>0.000</td>\n",
       "    </tr>\n",
       "    <tr>\n",
       "      <th>8</th>\n",
       "      <td>0.9</td>\n",
       "      <td>0.000</td>\n",
       "    </tr>\n",
       "  </tbody>\n",
       "</table>\n",
       "</div>"
      ],
      "text/plain": [
       "   Umbral  Sensibilidad\n",
       "0     0.1         1.000\n",
       "1     0.2         0.875\n",
       "2     0.3         0.750\n",
       "3     0.4         0.500\n",
       "4     0.5         0.500\n",
       "5     0.6         0.250\n",
       "6     0.7         0.000\n",
       "7     0.8         0.000\n",
       "8     0.9         0.000"
      ]
     },
     "execution_count": 68,
     "metadata": {},
     "output_type": "execute_result"
    }
   ],
   "source": [
    "# 10. Sensibilidad para diferentes umbrales\n",
    "sensibilidad = {}\n",
    "for umbral in [0.1, 0.2, 0.3, 0.4, 0.5, 0.6, 0.7, 0.8, 0.9]:\n",
    "    y_umbralizadas = 1 * (y_test_pred_prob[:, 1] > umbral)\n",
    "    sensibilidad[umbral] = metrics.recall_score(y_test, y_umbralizadas)\n",
    "\n",
    "# Crear un DataFrame a partir del diccionario\n",
    "df_sensibilidad = pd.DataFrame(list(sensibilidad.items()), columns=['Umbral', 'Sensibilidad'])\n",
    "\n",
    "# Imprimir la tabla\n",
    "df_sensibilidad"
   ]
  },
  {
   "cell_type": "code",
   "execution_count": 69,
   "metadata": {},
   "outputs": [
    {
     "data": {
      "text/html": [
       "<div>\n",
       "<style scoped>\n",
       "    .dataframe tbody tr th:only-of-type {\n",
       "        vertical-align: middle;\n",
       "    }\n",
       "\n",
       "    .dataframe tbody tr th {\n",
       "        vertical-align: top;\n",
       "    }\n",
       "\n",
       "    .dataframe thead th {\n",
       "        text-align: right;\n",
       "    }\n",
       "</style>\n",
       "<table border=\"1\" class=\"dataframe\">\n",
       "  <thead>\n",
       "    <tr style=\"text-align: right;\">\n",
       "      <th></th>\n",
       "      <th>Umbral</th>\n",
       "      <th>Precisión</th>\n",
       "    </tr>\n",
       "  </thead>\n",
       "  <tbody>\n",
       "    <tr>\n",
       "      <th>0</th>\n",
       "      <td>0.1</td>\n",
       "      <td>0.205128</td>\n",
       "    </tr>\n",
       "    <tr>\n",
       "      <th>1</th>\n",
       "      <td>0.2</td>\n",
       "      <td>0.241379</td>\n",
       "    </tr>\n",
       "    <tr>\n",
       "      <th>2</th>\n",
       "      <td>0.3</td>\n",
       "      <td>0.300000</td>\n",
       "    </tr>\n",
       "    <tr>\n",
       "      <th>3</th>\n",
       "      <td>0.4</td>\n",
       "      <td>0.285714</td>\n",
       "    </tr>\n",
       "    <tr>\n",
       "      <th>4</th>\n",
       "      <td>0.5</td>\n",
       "      <td>0.444444</td>\n",
       "    </tr>\n",
       "    <tr>\n",
       "      <th>5</th>\n",
       "      <td>0.6</td>\n",
       "      <td>0.500000</td>\n",
       "    </tr>\n",
       "    <tr>\n",
       "      <th>6</th>\n",
       "      <td>0.7</td>\n",
       "      <td>0.000000</td>\n",
       "    </tr>\n",
       "    <tr>\n",
       "      <th>7</th>\n",
       "      <td>0.8</td>\n",
       "      <td>0.000000</td>\n",
       "    </tr>\n",
       "    <tr>\n",
       "      <th>8</th>\n",
       "      <td>0.9</td>\n",
       "      <td>0.000000</td>\n",
       "    </tr>\n",
       "  </tbody>\n",
       "</table>\n",
       "</div>"
      ],
      "text/plain": [
       "   Umbral  Precisión\n",
       "0     0.1   0.205128\n",
       "1     0.2   0.241379\n",
       "2     0.3   0.300000\n",
       "3     0.4   0.285714\n",
       "4     0.5   0.444444\n",
       "5     0.6   0.500000\n",
       "6     0.7   0.000000\n",
       "7     0.8   0.000000\n",
       "8     0.9   0.000000"
      ]
     },
     "execution_count": 69,
     "metadata": {},
     "output_type": "execute_result"
    }
   ],
   "source": [
    "# 11. Precisión para diferentes umbrales\n",
    "precisiones = {}\n",
    "for umbral in [0.1, 0.2, 0.3, 0.4, 0.5, 0.6, 0.7, 0.8, 0.9]:\n",
    "    y_umbralizadas = 1 * (y_test_pred_prob[:, 1] > umbral)\n",
    "    precisiones[umbral] = metrics.precision_score(y_test, y_umbralizadas)\n",
    "\n",
    "# Crear un DataFrame a partir del diccionario\n",
    "df_precision = pd.DataFrame(list(precisiones.items()), columns=['Umbral', 'Precisión'])\n",
    "\n",
    "# Imprimir la tabla\n",
    "df_precision"
   ]
  },
  {
   "cell_type": "code",
   "execution_count": 70,
   "metadata": {},
   "outputs": [
    {
     "name": "stdout",
     "output_type": "stream",
     "text": [
      "Matriz de confusión\n",
      " [[203   5]\n",
      " [  4   4]]\n",
      "\n",
      "Accuracy\t0.96\n",
      "Sensitividad\t0.5\n",
      "Precisión\t0.44\n"
     ]
    }
   ],
   "source": [
    "# 12. Matriz de confusión y métricas con el umbral por defecto\n",
    "optimal_threshold = 0.5\n",
    "y_umbralizadas = 1 * (y_test_pred_prob[:, 1] > optimal_threshold)\n",
    "print(u\"Matriz de confusión\\n\", metrics.confusion_matrix(y_test, y_umbralizadas))\n",
    "print(\"\\nAccuracy\\t{}\".format(round(metrics.accuracy_score(y_test, y_umbralizadas), 2)))\n",
    "print(\"Sensitividad\\t{}\".format(round(metrics.recall_score(y_test, y_umbralizadas), 2)))\n",
    "print(u\"Precisión\\t{}\".format(round(metrics.precision_score(y_test, y_umbralizadas), 2)))"
   ]
  },
  {
   "cell_type": "code",
   "execution_count": 71,
   "metadata": {},
   "outputs": [
    {
     "name": "stdout",
     "output_type": "stream",
     "text": [
      "Umbral óptimo (validación cruzada): 0.6728101916783544\n",
      "ROC AUC de validación cruzada: 0.999056100463742\n",
      "Matriz de confusión (validación cruzada):\n",
      " [[412   1]\n",
      " [  7 406]]\n",
      "\n",
      "Accuracy (validación cruzada):\t0.99\n",
      "Sensitividad (validación cruzada):\t0.98\n",
      "Precisión (validación cruzada):\t1.0\n"
     ]
    }
   ],
   "source": [
    "# 13. Evalúa el modelo con validación cruzada y ajuste de umbral utilizando los datos de entrenamiento\n",
    "evaluate_model_with_cv(modelo_gs.best_estimator_, X_train_sm, y_train_sm, cv=5)"
   ]
  },
  {
   "cell_type": "markdown",
   "metadata": {},
   "source": [
    "# 5. Modelo XGBoost."
   ]
  },
  {
   "cell_type": "code",
   "execution_count": 72,
   "metadata": {},
   "outputs": [],
   "source": [
    "from xgboost import XGBClassifier"
   ]
  },
  {
   "cell_type": "markdown",
   "metadata": {},
   "source": [
    "#### Ajuste y predicción del modelo:"
   ]
  },
  {
   "cell_type": "code",
   "execution_count": 73,
   "metadata": {},
   "outputs": [
    {
     "data": {
      "text/plain": [
       "XGBClassifier(base_score=0.5, booster='gbtree', colsample_bylevel=1,\n",
       "              colsample_bynode=1, colsample_bytree=1, enable_categorical=False,\n",
       "              eval_metric='logloss', gamma=0, gpu_id=-1, importance_type=None,\n",
       "              interaction_constraints='', learning_rate=0.300000012,\n",
       "              max_delta_step=0, max_depth=6, min_child_weight=1, missing=nan,\n",
       "              monotone_constraints='()', n_estimators=100, n_jobs=12,\n",
       "              num_parallel_tree=1, predictor='auto', random_state=0,\n",
       "              reg_alpha=0, reg_lambda=1, scale_pos_weight=1, subsample=1,\n",
       "              tree_method='exact', use_label_encoder=False,\n",
       "              validate_parameters=1, verbosity=None)"
      ]
     },
     "execution_count": 73,
     "metadata": {},
     "output_type": "execute_result"
    }
   ],
   "source": [
    "# 1. Entrenamiento del modelo\n",
    "modelo_XGB = XGBClassifier(use_label_encoder=False, eval_metric='logloss')\n",
    "modelo_XGB.fit(X_train_sm, y_train_sm)"
   ]
  },
  {
   "cell_type": "code",
   "execution_count": 74,
   "metadata": {},
   "outputs": [
    {
     "name": "stdout",
     "output_type": "stream",
     "text": [
      "ROC AUC Score (sin ajuste): 0.9543269230769231\n"
     ]
    }
   ],
   "source": [
    "# 2. Predicciones de prueba\n",
    "y_test_pred_prob = modelo_XGB.predict_proba(X_test_scaled)\n",
    "print(\"ROC AUC Score (sin ajuste):\", metrics.roc_auc_score(y_test, y_test_pred_prob[:, 1]))"
   ]
  },
  {
   "cell_type": "markdown",
   "metadata": {},
   "source": [
    "## 5.1. Optimización de parámetros"
   ]
  },
  {
   "cell_type": "code",
   "execution_count": 75,
   "metadata": {},
   "outputs": [
    {
     "data": {
      "text/plain": [
       "GridSearchCV(cv=5,\n",
       "             estimator=XGBClassifier(base_score=0.5, booster='gbtree',\n",
       "                                     colsample_bylevel=1, colsample_bynode=1,\n",
       "                                     colsample_bytree=1,\n",
       "                                     enable_categorical=False,\n",
       "                                     eval_metric='logloss', gamma=0, gpu_id=-1,\n",
       "                                     importance_type=None,\n",
       "                                     interaction_constraints='',\n",
       "                                     learning_rate=0.300000012,\n",
       "                                     max_delta_step=0, max_depth=6,\n",
       "                                     min_child_weight=1, missing=nan,\n",
       "                                     monotone_constraints='()',\n",
       "                                     n_estimators=100, n_jobs=12,\n",
       "                                     num_parallel_tree=1, predictor='auto',\n",
       "                                     random_state=0, reg_alpha=0, reg_lambda=1,\n",
       "                                     scale_pos_weight=1, subsample=1,\n",
       "                                     tree_method='exact',\n",
       "                                     use_label_encoder=False,\n",
       "                                     validate_parameters=1, verbosity=None),\n",
       "             param_grid={'learning_rate': [0.01, 0.1, 0.2],\n",
       "                         'max_depth': [3, 5, 7, 9, 11],\n",
       "                         'n_estimators': [50, 100, 200]},\n",
       "             scoring='roc_auc')"
      ]
     },
     "execution_count": 75,
     "metadata": {},
     "output_type": "execute_result"
    }
   ],
   "source": [
    "# 3. GridSearch para hiperparámetros con validación cruzada\n",
    "parametros = {\"n_estimators\": [50, 100, 200], \n",
    "              \"max_depth\": [3, 5, 7, 9, 11], \n",
    "              \"learning_rate\": [0.01, 0.1, 0.2]}\n",
    "modelo_gs = GridSearchCV(modelo_XGB, param_grid=parametros, cv=5, scoring='roc_auc')\n",
    "modelo_gs.fit(X_train_sm, y_train_sm)"
   ]
  },
  {
   "cell_type": "code",
   "execution_count": 76,
   "metadata": {},
   "outputs": [
    {
     "name": "stdout",
     "output_type": "stream",
     "text": [
      "{'learning_rate': 0.2, 'max_depth': 11, 'n_estimators': 200} \n",
      "ROC AUC: 1.0\n"
     ]
    }
   ],
   "source": [
    "# 4. Mejores parámetros y score de ROC AUC\n",
    "print(modelo_gs.best_params_, \"\\nROC AUC: {}\".format(round(modelo_gs.best_score_, 2)))"
   ]
  },
  {
   "cell_type": "code",
   "execution_count": 77,
   "metadata": {},
   "outputs": [],
   "source": [
    "# 5. Resultados de la búsqueda\n",
    "df_search = pd.DataFrame.from_dict(modelo_gs.cv_results_)"
   ]
  },
  {
   "cell_type": "code",
   "execution_count": 78,
   "metadata": {},
   "outputs": [
    {
     "data": {
      "image/png": "[encoded data removed]",
      "text/plain": [
       "<Figure size 432x288 with 1 Axes>"
      ]
     },
     "metadata": {
      "needs_background": "light"
     },
     "output_type": "display_data"
    }
   ],
   "source": [
    "# 6. Gráfico de max_depth vs. roc_auc\n",
    "plt.xlabel('max_depth')\n",
    "plt.ylabel('roc_auc')\n",
    "_ = plt.plot(df_search['param_max_depth'], df_search['mean_test_score'], '.')"
   ]
  },
  {
   "cell_type": "code",
   "execution_count": 79,
   "metadata": {},
   "outputs": [
    {
     "name": "stdout",
     "output_type": "stream",
     "text": [
      "ROC AUC Score (con ajuste): 0.9501201923076923\n"
     ]
    }
   ],
   "source": [
    "# 7. Predicciones con el mejor modelo\n",
    "y_test_pred_prob = modelo_gs.predict_proba(X_test_scaled)\n",
    "print(\"ROC AUC Score (con ajuste):\", metrics.roc_auc_score(y_test, y_test_pred_prob[:, 1]))"
   ]
  },
  {
   "cell_type": "markdown",
   "metadata": {},
   "source": [
    "## 5.2. Representación de las probabilidades:"
   ]
  },
  {
   "cell_type": "markdown",
   "metadata": {},
   "source": [
    "Se representa la curva ROC de las predicciones en test:"
   ]
  },
  {
   "cell_type": "code",
   "execution_count": 80,
   "metadata": {},
   "outputs": [
    {
     "data": {
      "image/png": "[encoded data removed]",
      "text/plain": [
       "<Figure size 720x504 with 1 Axes>"
      ]
     },
     "metadata": {
      "needs_background": "light"
     },
     "output_type": "display_data"
    }
   ],
   "source": [
    "# 8. Curva ROC\n",
    "preds = y_test_pred_prob[:, 1]\n",
    "fpr, tpr, threshold = metrics.roc_curve(y_test, preds)\n",
    "roc_auc = metrics.auc(fpr, tpr)\n",
    "\n",
    "plt.figure(figsize=(10, 7))\n",
    "plt.title('Receiver Operating Characteristic')\n",
    "plt.plot(fpr, tpr, 'b', label='AUC = %0.2f' % roc_auc)\n",
    "plt.legend(loc='lower right')\n",
    "plt.plot([0, 1], [0, 1], 'r--')\n",
    "plt.xlim([0, 1])\n",
    "plt.ylim([0, 1])\n",
    "plt.ylabel('True Positive Rate')\n",
    "plt.xlabel('False Positive Rate')\n",
    "plt.show()"
   ]
  },
  {
   "cell_type": "code",
   "execution_count": 81,
   "metadata": {},
   "outputs": [
    {
     "data": {
      "image/png": "[encoded data removed]",
      "text/plain": [
       "<Figure size 432x288 with 1 Axes>"
      ]
     },
     "metadata": {
      "needs_background": "light"
     },
     "output_type": "display_data"
    }
   ],
   "source": [
    "# 9. Distribución de probabilidades\n",
    "y_test_pred_prob_pos = y_test_pred_prob[np.where(y_test == 1)[0]]\n",
    "y_test_pred_prob_neg = y_test_pred_prob[np.where(y_test == 0)[0]]\n",
    "\n",
    "represento_doble_hist(y_test_pred_prob_pos[:, 1], y_test_pred_prob_neg[:, 1], n_bins=21, density=0)"
   ]
  },
  {
   "cell_type": "markdown",
   "metadata": {},
   "source": [
    "#### Cálculo de la sensibilidad:"
   ]
  },
  {
   "cell_type": "code",
   "execution_count": 82,
   "metadata": {},
   "outputs": [
    {
     "data": {
      "text/html": [
       "<div>\n",
       "<style scoped>\n",
       "    .dataframe tbody tr th:only-of-type {\n",
       "        vertical-align: middle;\n",
       "    }\n",
       "\n",
       "    .dataframe tbody tr th {\n",
       "        vertical-align: top;\n",
       "    }\n",
       "\n",
       "    .dataframe thead th {\n",
       "        text-align: right;\n",
       "    }\n",
       "</style>\n",
       "<table border=\"1\" class=\"dataframe\">\n",
       "  <thead>\n",
       "    <tr style=\"text-align: right;\">\n",
       "      <th></th>\n",
       "      <th>Umbral</th>\n",
       "      <th>Sensibilidad</th>\n",
       "    </tr>\n",
       "  </thead>\n",
       "  <tbody>\n",
       "    <tr>\n",
       "      <th>0</th>\n",
       "      <td>0.1</td>\n",
       "      <td>0.625</td>\n",
       "    </tr>\n",
       "    <tr>\n",
       "      <th>1</th>\n",
       "      <td>0.2</td>\n",
       "      <td>0.500</td>\n",
       "    </tr>\n",
       "    <tr>\n",
       "      <th>2</th>\n",
       "      <td>0.3</td>\n",
       "      <td>0.500</td>\n",
       "    </tr>\n",
       "    <tr>\n",
       "      <th>3</th>\n",
       "      <td>0.4</td>\n",
       "      <td>0.375</td>\n",
       "    </tr>\n",
       "    <tr>\n",
       "      <th>4</th>\n",
       "      <td>0.5</td>\n",
       "      <td>0.375</td>\n",
       "    </tr>\n",
       "    <tr>\n",
       "      <th>5</th>\n",
       "      <td>0.6</td>\n",
       "      <td>0.375</td>\n",
       "    </tr>\n",
       "    <tr>\n",
       "      <th>6</th>\n",
       "      <td>0.7</td>\n",
       "      <td>0.375</td>\n",
       "    </tr>\n",
       "    <tr>\n",
       "      <th>7</th>\n",
       "      <td>0.8</td>\n",
       "      <td>0.375</td>\n",
       "    </tr>\n",
       "    <tr>\n",
       "      <th>8</th>\n",
       "      <td>0.9</td>\n",
       "      <td>0.375</td>\n",
       "    </tr>\n",
       "  </tbody>\n",
       "</table>\n",
       "</div>"
      ],
      "text/plain": [
       "   Umbral  Sensibilidad\n",
       "0     0.1         0.625\n",
       "1     0.2         0.500\n",
       "2     0.3         0.500\n",
       "3     0.4         0.375\n",
       "4     0.5         0.375\n",
       "5     0.6         0.375\n",
       "6     0.7         0.375\n",
       "7     0.8         0.375\n",
       "8     0.9         0.375"
      ]
     },
     "execution_count": 82,
     "metadata": {},
     "output_type": "execute_result"
    }
   ],
   "source": [
    "# 10. Sensibilidad para diferentes umbrales\n",
    "sensibilidad = {}\n",
    "for umbral in [0.1, 0.2, 0.3, 0.4, 0.5, 0.6, 0.7, 0.8, 0.9]:\n",
    "    y_umbralizadas = 1 * (y_test_pred_prob[:, 1] > umbral)\n",
    "    sensibilidad[umbral] = metrics.recall_score(y_test, y_umbralizadas)\n",
    "\n",
    "# Crear un DataFrame a partir del diccionario\n",
    "df_sensibilidad = pd.DataFrame(list(sensibilidad.items()), columns=['Umbral', 'Sensibilidad'])\n",
    "\n",
    "# Imprimir la tabla\n",
    "df_sensibilidad"
   ]
  },
  {
   "cell_type": "markdown",
   "metadata": {},
   "source": [
    "#### Cálculo de la precisión:"
   ]
  },
  {
   "cell_type": "code",
   "execution_count": 83,
   "metadata": {},
   "outputs": [
    {
     "data": {
      "text/html": [
       "<div>\n",
       "<style scoped>\n",
       "    .dataframe tbody tr th:only-of-type {\n",
       "        vertical-align: middle;\n",
       "    }\n",
       "\n",
       "    .dataframe tbody tr th {\n",
       "        vertical-align: top;\n",
       "    }\n",
       "\n",
       "    .dataframe thead th {\n",
       "        text-align: right;\n",
       "    }\n",
       "</style>\n",
       "<table border=\"1\" class=\"dataframe\">\n",
       "  <thead>\n",
       "    <tr style=\"text-align: right;\">\n",
       "      <th></th>\n",
       "      <th>Umbral</th>\n",
       "      <th>Precisión</th>\n",
       "    </tr>\n",
       "  </thead>\n",
       "  <tbody>\n",
       "    <tr>\n",
       "      <th>0</th>\n",
       "      <td>0.1</td>\n",
       "      <td>0.312500</td>\n",
       "    </tr>\n",
       "    <tr>\n",
       "      <th>1</th>\n",
       "      <td>0.2</td>\n",
       "      <td>0.333333</td>\n",
       "    </tr>\n",
       "    <tr>\n",
       "      <th>2</th>\n",
       "      <td>0.3</td>\n",
       "      <td>0.363636</td>\n",
       "    </tr>\n",
       "    <tr>\n",
       "      <th>3</th>\n",
       "      <td>0.4</td>\n",
       "      <td>0.300000</td>\n",
       "    </tr>\n",
       "    <tr>\n",
       "      <th>4</th>\n",
       "      <td>0.5</td>\n",
       "      <td>0.300000</td>\n",
       "    </tr>\n",
       "    <tr>\n",
       "      <th>5</th>\n",
       "      <td>0.6</td>\n",
       "      <td>0.428571</td>\n",
       "    </tr>\n",
       "    <tr>\n",
       "      <th>6</th>\n",
       "      <td>0.7</td>\n",
       "      <td>0.500000</td>\n",
       "    </tr>\n",
       "    <tr>\n",
       "      <th>7</th>\n",
       "      <td>0.8</td>\n",
       "      <td>0.500000</td>\n",
       "    </tr>\n",
       "    <tr>\n",
       "      <th>8</th>\n",
       "      <td>0.9</td>\n",
       "      <td>0.750000</td>\n",
       "    </tr>\n",
       "  </tbody>\n",
       "</table>\n",
       "</div>"
      ],
      "text/plain": [
       "   Umbral  Precisión\n",
       "0     0.1   0.312500\n",
       "1     0.2   0.333333\n",
       "2     0.3   0.363636\n",
       "3     0.4   0.300000\n",
       "4     0.5   0.300000\n",
       "5     0.6   0.428571\n",
       "6     0.7   0.500000\n",
       "7     0.8   0.500000\n",
       "8     0.9   0.750000"
      ]
     },
     "execution_count": 83,
     "metadata": {},
     "output_type": "execute_result"
    }
   ],
   "source": [
    "# 11. Precisión para diferentes umbrales\n",
    "precisiones = {}\n",
    "for umbral in [0.1, 0.2, 0.3, 0.4, 0.5, 0.6, 0.7, 0.8, 0.9]:\n",
    "    y_umbralizadas = 1 * (y_test_pred_prob[:, 1] > umbral)\n",
    "    precisiones[umbral] = metrics.precision_score(y_test, y_umbralizadas)\n",
    "\n",
    "# Crear un DataFrame a partir del diccionario\n",
    "df_precision = pd.DataFrame(list(precisiones.items()), columns=['Umbral', 'Precisión'])\n",
    "\n",
    "# Imprimir la tabla\n",
    "df_precision"
   ]
  },
  {
   "cell_type": "markdown",
   "metadata": {},
   "source": [
    "#### Cálculo de las métricas accuracy, sensibilidad, predicción y la matriz de confusión con el umbral 0,3"
   ]
  },
  {
   "cell_type": "code",
   "execution_count": 84,
   "metadata": {
    "scrolled": false
   },
   "outputs": [
    {
     "name": "stdout",
     "output_type": "stream",
     "text": [
      "Matriz de confusión\n",
      " [[201   7]\n",
      " [  5   3]]\n",
      "\n",
      "Accuracy\t0.94\n",
      "Sensitividad\t0.38\n",
      "Precisión\t0.3\n"
     ]
    }
   ],
   "source": [
    "# 12. Matriz de confusión y métricas con el umbral por defecto\n",
    "optimal_threshold = 0.5\n",
    "y_umbralizadas = 1 * (y_test_pred_prob[:, 1] > optimal_threshold)\n",
    "print(u\"Matriz de confusión\\n\", metrics.confusion_matrix(y_test, y_umbralizadas))\n",
    "print(\"\\nAccuracy\\t{}\".format(round(metrics.accuracy_score(y_test, y_umbralizadas), 2)))\n",
    "print(\"Sensitividad\\t{}\".format(round(metrics.recall_score(y_test, y_umbralizadas), 2)))\n",
    "print(u\"Precisión\\t{}\".format(round(metrics.precision_score(y_test, y_umbralizadas), 2)))"
   ]
  },
  {
   "cell_type": "code",
   "execution_count": 85,
   "metadata": {},
   "outputs": [
    {
     "name": "stdout",
     "output_type": "stream",
     "text": [
      "Umbral óptimo (validación cruzada): 0.80777556\n",
      "ROC AUC de validación cruzada: 0.9985812193305935\n",
      "Matriz de confusión (validación cruzada):\n",
      " [[410   3]\n",
      " [ 12 401]]\n",
      "\n",
      "Accuracy (validación cruzada):\t0.98\n",
      "Sensitividad (validación cruzada):\t0.97\n",
      "Precisión (validación cruzada):\t0.99\n"
     ]
    }
   ],
   "source": [
    "# 13. Evalúa el modelo con validación cruzada y ajuste de umbral utilizando los datos de entrenamiento\n",
    "evaluate_model_with_cv(modelo_gs.best_estimator_, X_train_sm, y_train_sm, cv=5)"
   ]
  },
  {
   "cell_type": "markdown",
   "metadata": {},
   "source": [
    "# 6. Modelo Máquinas Soporte Vectorial."
   ]
  },
  {
   "cell_type": "code",
   "execution_count": 86,
   "metadata": {},
   "outputs": [],
   "source": [
    "from sklearn.svm import SVC"
   ]
  },
  {
   "cell_type": "markdown",
   "metadata": {},
   "source": [
    "#### Ajuste y predicción del modelo:"
   ]
  },
  {
   "cell_type": "code",
   "execution_count": 87,
   "metadata": {},
   "outputs": [
    {
     "data": {
      "text/plain": [
       "SVC(probability=True)"
      ]
     },
     "execution_count": 87,
     "metadata": {},
     "output_type": "execute_result"
    }
   ],
   "source": [
    "# 1. Entrenamiento del modelo\n",
    "modelo_SVM = SVC(probability=True)\n",
    "modelo_SVM.fit(X_train_sm, y_train_sm)"
   ]
  },
  {
   "cell_type": "code",
   "execution_count": 88,
   "metadata": {},
   "outputs": [
    {
     "name": "stdout",
     "output_type": "stream",
     "text": [
      "ROC AUC Score (sin ajuste): 0.9368990384615385\n"
     ]
    }
   ],
   "source": [
    "# 2. Predicciones de prueba\n",
    "y_test_pred_prob = modelo_SVM.predict_proba(X_test_scaled)\n",
    "print(\"ROC AUC Score (sin ajuste):\", metrics.roc_auc_score(y_test, y_test_pred_prob[:, 1]))"
   ]
  },
  {
   "cell_type": "code",
   "execution_count": 89,
   "metadata": {},
   "outputs": [
    {
     "name": "stdout",
     "output_type": "stream",
     "text": [
      "Distribución de probabilidades:\n",
      " count    2.160000e+02\n",
      "mean     4.681245e-02\n",
      "std      1.897918e-01\n",
      "min      1.000000e-07\n",
      "25%      1.979444e-06\n",
      "50%      4.643968e-06\n",
      "75%      1.071196e-05\n",
      "max      9.891018e-01\n",
      "dtype: float64\n"
     ]
    }
   ],
   "source": [
    "# Revisar distribución de probabilidades\n",
    "print(\"Distribución de probabilidades:\\n\", pd.Series(y_test_pred_prob[:, 1]).describe())"
   ]
  },
  {
   "cell_type": "markdown",
   "metadata": {},
   "source": [
    "## 6.1. Optimización de parámetros"
   ]
  },
  {
   "cell_type": "code",
   "execution_count": 90,
   "metadata": {},
   "outputs": [
    {
     "data": {
      "text/plain": [
       "GridSearchCV(cv=5, estimator=SVC(probability=True),\n",
       "             param_grid={'C': [0.01, 0.1, 1, 10, 100],\n",
       "                         'gamma': ['scale', 'auto'],\n",
       "                         'kernel': ['linear', 'rbf']},\n",
       "             scoring='roc_auc')"
      ]
     },
     "execution_count": 90,
     "metadata": {},
     "output_type": "execute_result"
    }
   ],
   "source": [
    "# 3. GridSearch para hiperparámetros con validación cruzada\n",
    "parametros = {\n",
    "    'C': [0.01, 0.1, 1, 10, 100],\n",
    "    'kernel': ['linear', 'rbf'],\n",
    "    'gamma': ['scale', 'auto']\n",
    "}\n",
    "modelo_gs = GridSearchCV(SVC(probability=True), param_grid=parametros, cv=5, scoring='roc_auc')\n",
    "modelo_gs.fit(X_train_sm, y_train_sm)"
   ]
  },
  {
   "cell_type": "code",
   "execution_count": 91,
   "metadata": {},
   "outputs": [
    {
     "name": "stdout",
     "output_type": "stream",
     "text": [
      "{'C': 10, 'gamma': 'auto', 'kernel': 'rbf'} \n",
      "ROC AUC: 1.0\n"
     ]
    }
   ],
   "source": [
    "# 4. Mejores parámetros y score de ROC AUC\n",
    "print(modelo_gs.best_params_, \"\\nROC AUC: {}\".format(round(modelo_gs.best_score_, 2)))"
   ]
  },
  {
   "cell_type": "code",
   "execution_count": 92,
   "metadata": {},
   "outputs": [],
   "source": [
    "# 5. Resultados de la búsqueda\n",
    "df_search = pd.DataFrame.from_dict(modelo_gs.cv_results_)"
   ]
  },
  {
   "cell_type": "code",
   "execution_count": 93,
   "metadata": {},
   "outputs": [
    {
     "data": {
      "image/png": "[encoded data removed]",
      "text/plain": [
       "<Figure size 432x288 with 1 Axes>"
      ]
     },
     "metadata": {
      "needs_background": "light"
     },
     "output_type": "display_data"
    }
   ],
   "source": [
    "# 6. Gráfico de C vs. roc_auc\n",
    "plt.xlabel('C')\n",
    "plt.ylabel('roc_auc')\n",
    "_ = plt.plot(df_search['param_C'], df_search['mean_test_score'], '.')"
   ]
  },
  {
   "cell_type": "code",
   "execution_count": 94,
   "metadata": {},
   "outputs": [
    {
     "name": "stdout",
     "output_type": "stream",
     "text": [
      "ROC AUC Score (con ajuste): 0.8299278846153847\n"
     ]
    }
   ],
   "source": [
    "# 7. Predicciones con el mejor modelo\n",
    "y_test_pred_prob = modelo_gs.predict_proba(X_test_scaled)\n",
    "print(\"ROC AUC Score (con ajuste):\", metrics.roc_auc_score(y_test, y_test_pred_prob[:, 1]))"
   ]
  },
  {
   "cell_type": "code",
   "execution_count": 95,
   "metadata": {},
   "outputs": [
    {
     "name": "stdout",
     "output_type": "stream",
     "text": [
      "Distribución de probabilidades después del ajuste:\n",
      " count    2.160000e+02\n",
      "mean     3.065087e-02\n",
      "std      1.544850e-01\n",
      "min      1.000000e-07\n",
      "25%      1.757443e-06\n",
      "50%      1.434748e-05\n",
      "75%      5.099834e-05\n",
      "max      9.928028e-01\n",
      "dtype: float64\n"
     ]
    }
   ],
   "source": [
    "# Revisar distribución de probabilidades después del ajuste\n",
    "print(\"Distribución de probabilidades después del ajuste:\\n\", pd.Series(y_test_pred_prob[:, 1]).describe())"
   ]
  },
  {
   "cell_type": "markdown",
   "metadata": {},
   "source": [
    "## 6.2. Representación de las probabilidades:"
   ]
  },
  {
   "cell_type": "markdown",
   "metadata": {},
   "source": [
    "Se representa la curva ROC de las predicciones en test:"
   ]
  },
  {
   "cell_type": "code",
   "execution_count": 96,
   "metadata": {},
   "outputs": [
    {
     "data": {
      "image/png": "[encoded data removed]",
      "text/plain": [
       "<Figure size 720x504 with 1 Axes>"
      ]
     },
     "metadata": {
      "needs_background": "light"
     },
     "output_type": "display_data"
    }
   ],
   "source": [
    "# 8. Curva ROC\n",
    "preds = y_test_pred_prob[:, 1]\n",
    "fpr, tpr, threshold = metrics.roc_curve(y_test, preds)\n",
    "roc_auc = metrics.auc(fpr, tpr)\n",
    "\n",
    "plt.figure(figsize=(10, 7))\n",
    "plt.title('Receiver Operating Characteristic')\n",
    "plt.plot(fpr, tpr, 'b', label='AUC = %0.2f' % roc_auc)\n",
    "plt.legend(loc='lower right')\n",
    "plt.plot([0, 1], [0, 1], 'r--')\n",
    "plt.xlim([0, 1])\n",
    "plt.ylim([0, 1])\n",
    "plt.ylabel('True Positive Rate')\n",
    "plt.xlabel('False Positive Rate')\n",
    "plt.show()"
   ]
  },
  {
   "cell_type": "code",
   "execution_count": 97,
   "metadata": {},
   "outputs": [
    {
     "data": {
      "image/png": "[encoded data removed]",
      "text/plain": [
       "<Figure size 432x288 with 1 Axes>"
      ]
     },
     "metadata": {
      "needs_background": "light"
     },
     "output_type": "display_data"
    }
   ],
   "source": [
    "# 9. Distribución de probabilidades\n",
    "y_test_pred_prob_pos = y_test_pred_prob[np.where(y_test == 1)[0]]\n",
    "y_test_pred_prob_neg = y_test_pred_prob[np.where(y_test == 0)[0]]\n",
    "\n",
    "represento_doble_hist(y_test_pred_prob_pos[:, 1], y_test_pred_prob_neg[:, 1], n_bins=21, density=0)"
   ]
  },
  {
   "cell_type": "markdown",
   "metadata": {},
   "source": [
    "#### Cálculo de la sensibilidad:"
   ]
  },
  {
   "cell_type": "code",
   "execution_count": 98,
   "metadata": {},
   "outputs": [
    {
     "data": {
      "text/html": [
       "<div>\n",
       "<style scoped>\n",
       "    .dataframe tbody tr th:only-of-type {\n",
       "        vertical-align: middle;\n",
       "    }\n",
       "\n",
       "    .dataframe tbody tr th {\n",
       "        vertical-align: top;\n",
       "    }\n",
       "\n",
       "    .dataframe thead th {\n",
       "        text-align: right;\n",
       "    }\n",
       "</style>\n",
       "<table border=\"1\" class=\"dataframe\">\n",
       "  <thead>\n",
       "    <tr style=\"text-align: right;\">\n",
       "      <th></th>\n",
       "      <th>Umbral</th>\n",
       "      <th>Sensibilidad</th>\n",
       "    </tr>\n",
       "  </thead>\n",
       "  <tbody>\n",
       "    <tr>\n",
       "      <th>0</th>\n",
       "      <td>0.1</td>\n",
       "      <td>0.125</td>\n",
       "    </tr>\n",
       "    <tr>\n",
       "      <th>1</th>\n",
       "      <td>0.2</td>\n",
       "      <td>0.000</td>\n",
       "    </tr>\n",
       "    <tr>\n",
       "      <th>2</th>\n",
       "      <td>0.3</td>\n",
       "      <td>0.000</td>\n",
       "    </tr>\n",
       "    <tr>\n",
       "      <th>3</th>\n",
       "      <td>0.4</td>\n",
       "      <td>0.000</td>\n",
       "    </tr>\n",
       "    <tr>\n",
       "      <th>4</th>\n",
       "      <td>0.5</td>\n",
       "      <td>0.000</td>\n",
       "    </tr>\n",
       "    <tr>\n",
       "      <th>5</th>\n",
       "      <td>0.6</td>\n",
       "      <td>0.000</td>\n",
       "    </tr>\n",
       "    <tr>\n",
       "      <th>6</th>\n",
       "      <td>0.7</td>\n",
       "      <td>0.000</td>\n",
       "    </tr>\n",
       "    <tr>\n",
       "      <th>7</th>\n",
       "      <td>0.8</td>\n",
       "      <td>0.000</td>\n",
       "    </tr>\n",
       "    <tr>\n",
       "      <th>8</th>\n",
       "      <td>0.9</td>\n",
       "      <td>0.000</td>\n",
       "    </tr>\n",
       "  </tbody>\n",
       "</table>\n",
       "</div>"
      ],
      "text/plain": [
       "   Umbral  Sensibilidad\n",
       "0     0.1         0.125\n",
       "1     0.2         0.000\n",
       "2     0.3         0.000\n",
       "3     0.4         0.000\n",
       "4     0.5         0.000\n",
       "5     0.6         0.000\n",
       "6     0.7         0.000\n",
       "7     0.8         0.000\n",
       "8     0.9         0.000"
      ]
     },
     "execution_count": 98,
     "metadata": {},
     "output_type": "execute_result"
    }
   ],
   "source": [
    "# 10. Sensibilidad para diferentes umbrales\n",
    "sensibilidad = {}\n",
    "for umbral in [0.1, 0.2, 0.3, 0.4, 0.5, 0.6, 0.7, 0.8, 0.9]:\n",
    "    y_umbralizadas = (y_test_pred_prob[:, 1] > umbral).astype(int)\n",
    "    sensibilidad[umbral] = metrics.recall_score(y_test, y_umbralizadas)\n",
    "\n",
    "# Crear un DataFrame a partir del diccionario\n",
    "df_sensibilidad = pd.DataFrame(list(sensibilidad.items()), columns=['Umbral', 'Sensibilidad'])\n",
    "\n",
    "# Imprimir la tabla\n",
    "df_sensibilidad"
   ]
  },
  {
   "cell_type": "markdown",
   "metadata": {},
   "source": [
    "#### Cálculo de la precisión:"
   ]
  },
  {
   "cell_type": "code",
   "execution_count": 99,
   "metadata": {},
   "outputs": [
    {
     "data": {
      "text/html": [
       "<div>\n",
       "<style scoped>\n",
       "    .dataframe tbody tr th:only-of-type {\n",
       "        vertical-align: middle;\n",
       "    }\n",
       "\n",
       "    .dataframe tbody tr th {\n",
       "        vertical-align: top;\n",
       "    }\n",
       "\n",
       "    .dataframe thead th {\n",
       "        text-align: right;\n",
       "    }\n",
       "</style>\n",
       "<table border=\"1\" class=\"dataframe\">\n",
       "  <thead>\n",
       "    <tr style=\"text-align: right;\">\n",
       "      <th></th>\n",
       "      <th>Umbral</th>\n",
       "      <th>Precisión</th>\n",
       "    </tr>\n",
       "  </thead>\n",
       "  <tbody>\n",
       "    <tr>\n",
       "      <th>0</th>\n",
       "      <td>0.1</td>\n",
       "      <td>0.111111</td>\n",
       "    </tr>\n",
       "    <tr>\n",
       "      <th>1</th>\n",
       "      <td>0.2</td>\n",
       "      <td>0.000000</td>\n",
       "    </tr>\n",
       "    <tr>\n",
       "      <th>2</th>\n",
       "      <td>0.3</td>\n",
       "      <td>0.000000</td>\n",
       "    </tr>\n",
       "    <tr>\n",
       "      <th>3</th>\n",
       "      <td>0.4</td>\n",
       "      <td>0.000000</td>\n",
       "    </tr>\n",
       "    <tr>\n",
       "      <th>4</th>\n",
       "      <td>0.5</td>\n",
       "      <td>0.000000</td>\n",
       "    </tr>\n",
       "    <tr>\n",
       "      <th>5</th>\n",
       "      <td>0.6</td>\n",
       "      <td>0.000000</td>\n",
       "    </tr>\n",
       "    <tr>\n",
       "      <th>6</th>\n",
       "      <td>0.7</td>\n",
       "      <td>0.000000</td>\n",
       "    </tr>\n",
       "    <tr>\n",
       "      <th>7</th>\n",
       "      <td>0.8</td>\n",
       "      <td>0.000000</td>\n",
       "    </tr>\n",
       "    <tr>\n",
       "      <th>8</th>\n",
       "      <td>0.9</td>\n",
       "      <td>0.000000</td>\n",
       "    </tr>\n",
       "  </tbody>\n",
       "</table>\n",
       "</div>"
      ],
      "text/plain": [
       "   Umbral  Precisión\n",
       "0     0.1   0.111111\n",
       "1     0.2   0.000000\n",
       "2     0.3   0.000000\n",
       "3     0.4   0.000000\n",
       "4     0.5   0.000000\n",
       "5     0.6   0.000000\n",
       "6     0.7   0.000000\n",
       "7     0.8   0.000000\n",
       "8     0.9   0.000000"
      ]
     },
     "execution_count": 99,
     "metadata": {},
     "output_type": "execute_result"
    }
   ],
   "source": [
    "# 11. Precisión para diferentes umbrales\n",
    "precisiones = {}\n",
    "for umbral in [0.1, 0.2, 0.3, 0.4, 0.5, 0.6, 0.7, 0.8, 0.9]:\n",
    "    y_umbralizadas = 1 * (y_test_pred_prob[:, 1] > umbral)\n",
    "    precisiones[umbral] = metrics.precision_score(y_test, y_umbralizadas)\n",
    "\n",
    "# Crear un DataFrame a partir del diccionario\n",
    "df_precision = pd.DataFrame(list(precisiones.items()), columns=['Umbral', 'Precisión'])\n",
    "\n",
    "# Imprimir la tabla\n",
    "df_precision"
   ]
  },
  {
   "cell_type": "markdown",
   "metadata": {},
   "source": [
    "#### Cálculo de las métricas accuracy, sensibilidad, predicción y la matriz de confusión con el umbral 0,2"
   ]
  },
  {
   "cell_type": "code",
   "execution_count": 100,
   "metadata": {
    "scrolled": false
   },
   "outputs": [
    {
     "name": "stdout",
     "output_type": "stream",
     "text": [
      "Matriz de confusión\n",
      " [[201   7]\n",
      " [  8   0]]\n",
      "\n",
      "Accuracy\t0.93\n",
      "Sensitividad\t0.0\n",
      "Precisión\t0.0\n"
     ]
    }
   ],
   "source": [
    "# 12. Matriz de confusión y métricas con el umbral por defecto\n",
    "optimal_threshold = 0.5\n",
    "y_umbralizadas = 1 * (y_test_pred_prob[:, 1] > optimal_threshold)\n",
    "print(u\"Matriz de confusión\\n\", metrics.confusion_matrix(y_test, y_umbralizadas))\n",
    "print(\"\\nAccuracy\\t{}\".format(round(metrics.accuracy_score(y_test, y_umbralizadas), 2)))\n",
    "print(\"Sensitividad\\t{}\".format(round(metrics.recall_score(y_test, y_umbralizadas), 2)))\n",
    "print(u\"Precisión\\t{}\".format(round(metrics.precision_score(y_test, y_umbralizadas), 2)))"
   ]
  },
  {
   "cell_type": "code",
   "execution_count": 101,
   "metadata": {},
   "outputs": [
    {
     "name": "stdout",
     "output_type": "stream",
     "text": [
      "Umbral óptimo (validación cruzada): 0.8448387065615507\n",
      "ROC AUC de validación cruzada: 0.9984346510796217\n",
      "Matriz de confusión (validación cruzada):\n",
      " [[410   3]\n",
      " [  1 412]]\n",
      "\n",
      "Accuracy (validación cruzada):\t1.0\n",
      "Sensitividad (validación cruzada):\t1.0\n",
      "Precisión (validación cruzada):\t0.99\n"
     ]
    }
   ],
   "source": [
    "# 13. Evalúa el modelo con validación cruzada y ajuste de umbral utilizando los datos de entrenamiento\n",
    "evaluate_model_with_cv(modelo_gs.best_estimator_, X_train_sm, y_train_sm, cv=5)"
   ]
  },
  {
   "cell_type": "markdown",
   "metadata": {},
   "source": [
    "# 7. Modelo Redes Neuronales"
   ]
  },
  {
   "cell_type": "markdown",
   "metadata": {},
   "source": [
    "#### Ajuste y predicción del modelo:"
   ]
  },
  {
   "cell_type": "code",
   "execution_count": 102,
   "metadata": {},
   "outputs": [
    {
     "data": {
      "text/plain": [
       "MLPClassifier()"
      ]
     },
     "execution_count": 102,
     "metadata": {},
     "output_type": "execute_result"
    }
   ],
   "source": [
    "# 1. Entrenamiento del modelo\n",
    "modelo_nn = MLPClassifier()\n",
    "modelo_nn.fit(X_train_sm, y_train_sm)"
   ]
  },
  {
   "cell_type": "code",
   "execution_count": 103,
   "metadata": {},
   "outputs": [
    {
     "name": "stdout",
     "output_type": "stream",
     "text": [
      "ROC AUC inicial: 0.9435096153846154\n"
     ]
    }
   ],
   "source": [
    "# 2. Predicciones de prueba\n",
    "y_test_pred_prob = modelo_nn.predict_proba(X_test_scaled)\n",
    "print(\"ROC AUC inicial:\", metrics.roc_auc_score(y_test, y_test_pred_prob[:,1]))"
   ]
  },
  {
   "cell_type": "markdown",
   "metadata": {},
   "source": [
    "## 7.1. Optimización de parámetros"
   ]
  },
  {
   "cell_type": "code",
   "execution_count": 104,
   "metadata": {},
   "outputs": [
    {
     "data": {
      "text/plain": [
       "GridSearchCV(cv=5, estimator=MLPClassifier(),\n",
       "             param_grid={'activation': ['relu', 'tanh'],\n",
       "                         'alpha': [0.0001, 0.001, 0.01],\n",
       "                         'hidden_layer_sizes': [(50,), (100,), (50, 50),\n",
       "                                                (100, 100)],\n",
       "                         'learning_rate': ['constant', 'adaptive'],\n",
       "                         'solver': ['adam', 'sgd']},\n",
       "             scoring='roc_auc')"
      ]
     },
     "execution_count": 104,
     "metadata": {},
     "output_type": "execute_result"
    }
   ],
   "source": [
    "# 3. GridSearch para hiperparámetros con validación cruzada\n",
    "parametros = {\n",
    "    \"hidden_layer_sizes\": [(50,), (100,), (50, 50), (100, 100)],\n",
    "    \"activation\": [\"relu\", \"tanh\"],\n",
    "    \"solver\": [\"adam\", \"sgd\"],\n",
    "    \"alpha\": [0.0001, 0.001, 0.01],\n",
    "    \"learning_rate\": [\"constant\", \"adaptive\"]\n",
    "}\n",
    "\n",
    "modelo_gs = GridSearchCV(modelo_nn, param_grid=parametros, cv=5, scoring='roc_auc')\n",
    "modelo_gs.fit(X_train_sm, y_train_sm)"
   ]
  },
  {
   "cell_type": "code",
   "execution_count": 105,
   "metadata": {},
   "outputs": [
    {
     "name": "stdout",
     "output_type": "stream",
     "text": [
      "{'activation': 'relu', 'alpha': 0.001, 'hidden_layer_sizes': (100, 100), 'learning_rate': 'constant', 'solver': 'adam'} \n",
      "ROC AUC mejorado: 1.0\n"
     ]
    }
   ],
   "source": [
    "# 4. Mejores parámetros y resultado de ROC AUC\n",
    "print(modelo_gs.best_params_, \"\\nROC AUC mejorado: {}\".format(round(modelo_gs.best_score_, 2)))"
   ]
  },
  {
   "cell_type": "code",
   "execution_count": 106,
   "metadata": {},
   "outputs": [],
   "source": [
    "# 5. Resultado de la búsqueda\n",
    "df_search = pd.DataFrame.from_dict(modelo_gs.cv_results_)"
   ]
  },
  {
   "cell_type": "code",
   "execution_count": 107,
   "metadata": {},
   "outputs": [
    {
     "data": {
      "text/plain": [
       "[<matplotlib.lines.Line2D at 0x23e79f12908>]"
      ]
     },
     "execution_count": 107,
     "metadata": {},
     "output_type": "execute_result"
    },
    {
     "data": {
      "image/png": "[encoded data removed]",
      "text/plain": [
       "<Figure size 432x288 with 1 Axes>"
      ]
     },
     "metadata": {
      "needs_background": "light"
     },
     "output_type": "display_data"
    }
   ],
   "source": [
    "# 6. Gráfico de C vs. ROC AUC\n",
    "plt.figure()\n",
    "plt.xlabel('Configuración')\n",
    "plt.ylabel('ROC AUC')\n",
    "plt.plot(range(len(df_search)), df_search['mean_test_score'], '.')"
   ]
  },
  {
   "cell_type": "code",
   "execution_count": 108,
   "metadata": {},
   "outputs": [
    {
     "data": {
      "text/plain": [
       "0.8804086538461537"
      ]
     },
     "execution_count": 108,
     "metadata": {},
     "output_type": "execute_result"
    }
   ],
   "source": [
    "# 7. Predicciones con el mejor modelo.\n",
    "y_test_pred_prob = modelo_gs.predict_proba(X_test_scaled)\n",
    "metrics.roc_auc_score(y_test, y_test_pred_prob[:,1])"
   ]
  },
  {
   "cell_type": "markdown",
   "metadata": {},
   "source": [
    "## 7.2. Representación de las probabilidades:"
   ]
  },
  {
   "cell_type": "markdown",
   "metadata": {},
   "source": [
    "Se representa la curva ROC de las predicciones en test:"
   ]
  },
  {
   "cell_type": "code",
   "execution_count": 109,
   "metadata": {},
   "outputs": [
    {
     "data": {
      "image/png": "[encoded data removed]",
      "text/plain": [
       "<Figure size 720x504 with 1 Axes>"
      ]
     },
     "metadata": {
      "needs_background": "light"
     },
     "output_type": "display_data"
    }
   ],
   "source": [
    "# 8. Curva ROC\n",
    "preds = y_test_pred_prob[:,1]\n",
    "fpr, tpr, threshold = metrics.roc_curve(y_test, preds)\n",
    "roc_auc = metrics.auc(fpr, tpr)\n",
    "\n",
    "# Dibujar ROC\n",
    "plt.figure(figsize=(10,7))\n",
    "plt.title('Receiver Operating Characteristic')\n",
    "plt.plot(fpr, tpr, 'b', label='AUC = %0.2f' % roc_auc)\n",
    "plt.legend(loc='lower right')\n",
    "plt.plot([0, 1], [0, 1], 'r--')\n",
    "plt.xlim([0, 1])\n",
    "plt.ylim([0, 1])\n",
    "plt.ylabel('True Positive Rate')\n",
    "plt.xlabel('False Positive Rate')\n",
    "plt.show()"
   ]
  },
  {
   "cell_type": "code",
   "execution_count": 110,
   "metadata": {},
   "outputs": [
    {
     "data": {
      "image/png": "[encoded data removed]",
      "text/plain": [
       "<Figure size 432x288 with 1 Axes>"
      ]
     },
     "metadata": {
      "needs_background": "light"
     },
     "output_type": "display_data"
    }
   ],
   "source": [
    "# 9. Distribución de probabilidades\n",
    "y_test_pred_prob_pos = y_test_pred_prob[np.where(y_test == 1)[0]]\n",
    "y_test_pred_prob_neg = y_test_pred_prob[np.where(y_test == 0)[0]]\n",
    "\n",
    "represento_doble_hist(y_test_pred_prob_pos[:, 1], y_test_pred_prob_neg[:, 1], n_bins=21, density=0)"
   ]
  },
  {
   "cell_type": "markdown",
   "metadata": {},
   "source": [
    "#### Cálculo de la sensibilidad:"
   ]
  },
  {
   "cell_type": "code",
   "execution_count": 111,
   "metadata": {},
   "outputs": [
    {
     "data": {
      "text/html": [
       "<div>\n",
       "<style scoped>\n",
       "    .dataframe tbody tr th:only-of-type {\n",
       "        vertical-align: middle;\n",
       "    }\n",
       "\n",
       "    .dataframe tbody tr th {\n",
       "        vertical-align: top;\n",
       "    }\n",
       "\n",
       "    .dataframe thead th {\n",
       "        text-align: right;\n",
       "    }\n",
       "</style>\n",
       "<table border=\"1\" class=\"dataframe\">\n",
       "  <thead>\n",
       "    <tr style=\"text-align: right;\">\n",
       "      <th></th>\n",
       "      <th>Umbral</th>\n",
       "      <th>Sensibilidad</th>\n",
       "    </tr>\n",
       "  </thead>\n",
       "  <tbody>\n",
       "    <tr>\n",
       "      <th>0</th>\n",
       "      <td>0.1</td>\n",
       "      <td>0.375</td>\n",
       "    </tr>\n",
       "    <tr>\n",
       "      <th>1</th>\n",
       "      <td>0.2</td>\n",
       "      <td>0.375</td>\n",
       "    </tr>\n",
       "    <tr>\n",
       "      <th>2</th>\n",
       "      <td>0.3</td>\n",
       "      <td>0.375</td>\n",
       "    </tr>\n",
       "    <tr>\n",
       "      <th>3</th>\n",
       "      <td>0.4</td>\n",
       "      <td>0.375</td>\n",
       "    </tr>\n",
       "    <tr>\n",
       "      <th>4</th>\n",
       "      <td>0.5</td>\n",
       "      <td>0.250</td>\n",
       "    </tr>\n",
       "    <tr>\n",
       "      <th>5</th>\n",
       "      <td>0.6</td>\n",
       "      <td>0.125</td>\n",
       "    </tr>\n",
       "    <tr>\n",
       "      <th>6</th>\n",
       "      <td>0.7</td>\n",
       "      <td>0.125</td>\n",
       "    </tr>\n",
       "    <tr>\n",
       "      <th>7</th>\n",
       "      <td>0.8</td>\n",
       "      <td>0.125</td>\n",
       "    </tr>\n",
       "    <tr>\n",
       "      <th>8</th>\n",
       "      <td>0.9</td>\n",
       "      <td>0.125</td>\n",
       "    </tr>\n",
       "  </tbody>\n",
       "</table>\n",
       "</div>"
      ],
      "text/plain": [
       "   Umbral  Sensibilidad\n",
       "0     0.1         0.375\n",
       "1     0.2         0.375\n",
       "2     0.3         0.375\n",
       "3     0.4         0.375\n",
       "4     0.5         0.250\n",
       "5     0.6         0.125\n",
       "6     0.7         0.125\n",
       "7     0.8         0.125\n",
       "8     0.9         0.125"
      ]
     },
     "execution_count": 111,
     "metadata": {},
     "output_type": "execute_result"
    }
   ],
   "source": [
    "#10. Sensibilidad para diferentes umbrales\n",
    "sensibilidad = {}\n",
    "for umbral in [0.1, 0.2, 0.3, 0.4, 0.5, 0.6, 0.7, 0.8, 0.9]:\n",
    "    y_umbralizadas = 1*(y_test_pred_prob[:, 1] > umbral)\n",
    "    sensibilidad[umbral] = metrics.recall_score(y_test, y_umbralizadas)\n",
    "\n",
    "df_sensibilidad = pd.DataFrame(list(sensibilidad.items()), columns=['Umbral', 'Sensibilidad'])\n",
    "\n",
    "df_sensibilidad"
   ]
  },
  {
   "cell_type": "markdown",
   "metadata": {},
   "source": [
    "#### Cálculo de la precisión:"
   ]
  },
  {
   "cell_type": "code",
   "execution_count": 112,
   "metadata": {},
   "outputs": [
    {
     "data": {
      "text/html": [
       "<div>\n",
       "<style scoped>\n",
       "    .dataframe tbody tr th:only-of-type {\n",
       "        vertical-align: middle;\n",
       "    }\n",
       "\n",
       "    .dataframe tbody tr th {\n",
       "        vertical-align: top;\n",
       "    }\n",
       "\n",
       "    .dataframe thead th {\n",
       "        text-align: right;\n",
       "    }\n",
       "</style>\n",
       "<table border=\"1\" class=\"dataframe\">\n",
       "  <thead>\n",
       "    <tr style=\"text-align: right;\">\n",
       "      <th></th>\n",
       "      <th>Umbral</th>\n",
       "      <th>Precisión</th>\n",
       "    </tr>\n",
       "  </thead>\n",
       "  <tbody>\n",
       "    <tr>\n",
       "      <th>0</th>\n",
       "      <td>0.1</td>\n",
       "      <td>0.200000</td>\n",
       "    </tr>\n",
       "    <tr>\n",
       "      <th>1</th>\n",
       "      <td>0.2</td>\n",
       "      <td>0.250000</td>\n",
       "    </tr>\n",
       "    <tr>\n",
       "      <th>2</th>\n",
       "      <td>0.3</td>\n",
       "      <td>0.250000</td>\n",
       "    </tr>\n",
       "    <tr>\n",
       "      <th>3</th>\n",
       "      <td>0.4</td>\n",
       "      <td>0.250000</td>\n",
       "    </tr>\n",
       "    <tr>\n",
       "      <th>4</th>\n",
       "      <td>0.5</td>\n",
       "      <td>0.181818</td>\n",
       "    </tr>\n",
       "    <tr>\n",
       "      <th>5</th>\n",
       "      <td>0.6</td>\n",
       "      <td>0.100000</td>\n",
       "    </tr>\n",
       "    <tr>\n",
       "      <th>6</th>\n",
       "      <td>0.7</td>\n",
       "      <td>0.100000</td>\n",
       "    </tr>\n",
       "    <tr>\n",
       "      <th>7</th>\n",
       "      <td>0.8</td>\n",
       "      <td>0.100000</td>\n",
       "    </tr>\n",
       "    <tr>\n",
       "      <th>8</th>\n",
       "      <td>0.9</td>\n",
       "      <td>0.125000</td>\n",
       "    </tr>\n",
       "  </tbody>\n",
       "</table>\n",
       "</div>"
      ],
      "text/plain": [
       "   Umbral  Precisión\n",
       "0     0.1   0.200000\n",
       "1     0.2   0.250000\n",
       "2     0.3   0.250000\n",
       "3     0.4   0.250000\n",
       "4     0.5   0.181818\n",
       "5     0.6   0.100000\n",
       "6     0.7   0.100000\n",
       "7     0.8   0.100000\n",
       "8     0.9   0.125000"
      ]
     },
     "execution_count": 112,
     "metadata": {},
     "output_type": "execute_result"
    }
   ],
   "source": [
    "#11. Precisión para diferentes umbrales\n",
    "precisiones = {}\n",
    "for umbral in [0.1, 0.2, 0.3, 0.4, 0.5, 0.6, 0.7, 0.8, 0.9]:\n",
    "    y_umbralizadas = 1*(y_test_pred_prob[:, 1] > umbral)\n",
    "    precisiones[umbral] = metrics.precision_score(y_test, y_umbralizadas)\n",
    "\n",
    "df_precisiones = pd.DataFrame(list(precisiones.items()), columns=['Umbral', 'Precisión'])\n",
    "\n",
    "df_precisiones"
   ]
  },
  {
   "cell_type": "markdown",
   "metadata": {},
   "source": [
    "#### Cálculo de las métricas accuracy, sensibilidad, predicción y la matriz de confusión con el umbral 0,2"
   ]
  },
  {
   "cell_type": "code",
   "execution_count": 113,
   "metadata": {
    "scrolled": false
   },
   "outputs": [
    {
     "name": "stdout",
     "output_type": "stream",
     "text": [
      "Matriz de confusión\n",
      " [[199   9]\n",
      " [  6   2]]\n",
      "\n",
      "Accuracy\t0.93\n",
      "Sensitividad\t0.25\n",
      "Precisión\t0.18\n"
     ]
    }
   ],
   "source": [
    "# 12. Matriz de confusión y métricas con el umbral por defecto\n",
    "optimal_threshold = 0.5\n",
    "y_umbralizadas = 1 * (y_test_pred_prob[:, 1] > optimal_threshold)\n",
    "print(u\"Matriz de confusión\\n\", metrics.confusion_matrix(y_test, y_umbralizadas))\n",
    "print(\"\\nAccuracy\\t{}\".format(round(metrics.accuracy_score(y_test, y_umbralizadas), 2)))\n",
    "print(\"Sensitividad\\t{}\".format(round(metrics.recall_score(y_test, y_umbralizadas), 2)))\n",
    "print(u\"Precisión\\t{}\".format(round(metrics.precision_score(y_test, y_umbralizadas), 2)))"
   ]
  },
  {
   "cell_type": "code",
   "execution_count": 114,
   "metadata": {},
   "outputs": [
    {
     "name": "stdout",
     "output_type": "stream",
     "text": [
      "Umbral óptimo (validación cruzada): 0.950084275218093\n",
      "ROC AUC de validación cruzada: 0.9957905598320914\n",
      "Matriz de confusión (validación cruzada):\n",
      " [[406   7]\n",
      " [  1 412]]\n",
      "\n",
      "Accuracy (validación cruzada):\t0.99\n",
      "Sensitividad (validación cruzada):\t1.0\n",
      "Precisión (validación cruzada):\t0.98\n"
     ]
    }
   ],
   "source": [
    "#13. Evalúa el modelo con validación cruzada y ajuste de umbral utilizando los datos de entrenamiento\n",
    "evaluate_model_with_cv(modelo_gs.best_estimator_, X_train_sm, y_train_sm, cv=5)"
   ]
  }
 ],
 "metadata": {
  "kernelspec": {
   "display_name": "Python 3 (ipykernel)",
   "language": "python",
   "name": "python3"
  },
  "language_info": {
   "codemirror_mode": {
    "name": "ipython",
    "version": 3
   },
   "file_extension": ".py",
   "mimetype": "text/x-python",
   "name": "python",
   "nbconvert_exporter": "python",
   "pygments_lexer": "ipython3",
   "version": "3.9.12"
  }
 },
 "nbformat": 4,
 "nbformat_minor": 4
}
